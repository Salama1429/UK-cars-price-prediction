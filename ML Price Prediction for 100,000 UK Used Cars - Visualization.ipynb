{
 "cells": [
  {
   "cell_type": "markdown",
   "id": "09e7ff51",
   "metadata": {
    "toc": true
   },
   "source": [
    "<h1>Table of Contents<span class=\"tocSkip\"></span></h1>\n",
    "<div class=\"toc\"><ul class=\"toc-item\"><li><ul class=\"toc-item\"><li><span><a href=\"#بسم-الله-الرحمن-الرحيم\" data-toc-modified-id=\"بسم-الله-الرحمن-الرحيم-0.1\"><strong>بسم الله الرحمن الرحيم</strong></a></span></li><li><span><a href=\"#“In-the-Name-of-Allah,-the-Most-Beneficent,-the-Most-Merciful”\" data-toc-modified-id=\"“In-the-Name-of-Allah,-the-Most-Beneficent,-the-Most-Merciful”-0.2\">“In the Name of Allah, the Most Beneficent, the Most Merciful”</a></span></li></ul></li><li><span><a href=\"#Introduction:-Machine-Learning-Project-(Price-Prediction-for-100,000-UK-Used-Cars)\" data-toc-modified-id=\"Introduction:-Machine-Learning-Project-(Price-Prediction-for-100,000-UK-Used-Cars)-1\">Introduction: Machine Learning Project (Price Prediction for 100,000 UK Used Cars)</a></span><ul class=\"toc-item\"><li><span><a href=\"#Content-of-data\" data-toc-modified-id=\"Content-of-data-1.1\">Content of data</a></span></li><li><span><a href=\"#Machine-Learning-Workflow\" data-toc-modified-id=\"Machine-Learning-Workflow-1.2\">Machine Learning Workflow</a></span></li><li><span><a href=\"#Imports\" data-toc-modified-id=\"Imports-1.3\">Imports</a></span></li></ul></li><li><span><a href=\"#Data-Cleaning-and-Formatting\" data-toc-modified-id=\"Data-Cleaning-and-Formatting-2\">Data Cleaning and Formatting</a></span><ul class=\"toc-item\"><li><span><a href=\"#Load-in-the-Data-and-Examine\" data-toc-modified-id=\"Load-in-the-Data-and-Examine-2.1\">Load in the Data and Examine</a></span><ul class=\"toc-item\"><li><span><a href=\"#I-found-that:\" data-toc-modified-id=\"I-found-that:-2.1.1\">I found that:</a></span><ul class=\"toc-item\"><li><span><a href=\"#2)-these-csv-files-are-missing-tax-column-(cclass.csv,-focus.csv)\" data-toc-modified-id=\"2)-these-csv-files-are-missing-tax-column-(cclass.csv,-focus.csv)-2.1.1.1\">2) these csv files are missing tax column (cclass.csv, focus.csv)</a></span></li><li><span><a href=\"#3)-these-csv-files-are-missing-mpg-column-(cclass.csv,-focus.csv)\" data-toc-modified-id=\"3)-these-csv-files-are-missing-mpg-column-(cclass.csv,-focus.csv)-2.1.1.2\">3) these csv files are missing mpg column (cclass.csv, focus.csv)</a></span></li><li><span><a href=\"#4)-hyundi.csv-file-have-a-column-named-tax(£)-which-should-be-tax.\" data-toc-modified-id=\"4)-hyundi.csv-file-have-a-column-named-tax(£)-which-should-be-tax.-2.1.1.3\">4) hyundi.csv file have a column named tax(£) which should be tax.</a></span></li><li><span><a href=\"#5)-the-two-unclead-files-have-a-different-columns-than-the-others,-so-i-have-to-deal-with-both-of-them-separately.\" data-toc-modified-id=\"5)-the-two-unclead-files-have-a-different-columns-than-the-others,-so-i-have-to-deal-with-both-of-them-separately.-2.1.1.4\">5) the two unclead files have a different columns than the others, so i have to deal with both of them separately.</a></span></li><li><span><a href=\"#6)-I-need-to-add-company-column-which-contains-company-name-for-all-files\" data-toc-modified-id=\"6)-I-need-to-add-company-column-which-contains-company-name-for-all-files-2.1.1.5\">6) I need to add company column which contains company name for all files</a></span></li></ul></li><li><span><a href=\"#From-the-results-above-i-found-that:\" data-toc-modified-id=\"From-the-results-above-i-found-that:-2.1.2\">From the results above i found that:</a></span><ul class=\"toc-item\"><li><span><a href=\"#These-columns-are-ok--[Company-name,-fuel-type2,-model,-year,-transmission]\" data-toc-modified-id=\"These-columns-are-ok--[Company-name,-fuel-type2,-model,-year,-transmission]-2.1.2.1\">These columns are ok  [Company name, fuel type2, model, year, transmission]</a></span></li></ul></li></ul></li><li><span><a href=\"#Missing-Values\" data-toc-modified-id=\"Missing-Values-2.2\">Missing Values</a></span></li></ul></li><li><span><a href=\"#Exploratory-Data-Analysis--(EDA)\" data-toc-modified-id=\"Exploratory-Data-Analysis--(EDA)-3\">Exploratory Data Analysis  (EDA)</a></span><ul class=\"toc-item\"><li><span><a href=\"#Data-cleaning\" data-toc-modified-id=\"Data-cleaning-3.1\">Data cleaning</a></span></li><li><span><a href=\"#Visualization\" data-toc-modified-id=\"Visualization-3.2\">Visualization</a></span></li></ul></li></ul></div>"
   ]
  },
  {
   "cell_type": "markdown",
   "id": "b6daa8a0",
   "metadata": {},
   "source": [
    "## **بسم الله الرحمن الرحيم**\n",
    "## “In the Name of Allah, the Most Beneficent, the Most Merciful”"
   ]
  },
  {
   "cell_type": "markdown",
   "id": "866a47a3",
   "metadata": {},
   "source": [
    "# Introduction: Machine Learning Project (Price Prediction for 100,000 UK Used Cars)\n",
    "\n",
    "In this notebook, I will walk through solving a complete machine learning problem using a real-world dataset. \n",
    "\n",
    "This is a supervised, regression machine learning task: given a set of data with targets (in this case the price).\n",
    "\n",
    "* Supervised problem: we are given both the features and the target\n",
    "* Regression problem: the target is a continous variable\n",
    "\n",
    "## Content of data\n",
    "* Scraped data of used cars listings. 100,000 listings, which have been separated into files corresponding to each car manufacturer (total 13 csv files).\n",
    "\n",
    "* The cleaned data set contains information of price, transmission, mileage, fuel type, road tax, miles per gallon (mpg), and engine size (in liters).\n",
    "\n",
    "\n",
    "## Machine Learning Workflow\n",
    "\n",
    "1. Data cleaning and formatting\n",
    "2. Exploratory data analysis\n",
    "3. Feature engineering and selection\n",
    "4. Establish a baseline and compare several machine learning models on a performance metric\n",
    "5. Perform hyperparameter tuning on the best model to optimize it for the problem\n",
    "6. Evaluate the best model on the testing set\n",
    "7. Interpret the model results to the extent possible\n",
    "8. Draw conclusions and write a well-documented report\n",
    "\n",
    "let's get started! "
   ]
  },
  {
   "cell_type": "markdown",
   "id": "ab3ed69d",
   "metadata": {},
   "source": [
    "## Imports"
   ]
  },
  {
   "cell_type": "code",
   "execution_count": 1,
   "id": "25a71009",
   "metadata": {},
   "outputs": [],
   "source": [
    "import pandas as pd\n",
    "import numpy as np\n",
    "import seaborn as sns\n",
    "import glob\n",
    "import datasist as ds\n",
    "import matplotlib.pyplot as plt\n",
    "\n",
    "%matplotlib inline\n",
    "sns.set(rc={'figure.figsize': [14, 10]}, font_scale=1.2)"
   ]
  },
  {
   "cell_type": "markdown",
   "id": "02d96b33",
   "metadata": {},
   "source": [
    "# Data Cleaning and Formatting\n",
    "\n",
    "## Load in the Data and Examine"
   ]
  },
  {
   "cell_type": "code",
   "execution_count": 2,
   "id": "0d820d8c",
   "metadata": {},
   "outputs": [
    {
     "data": {
      "text/plain": [
       "['audi.csv',\n",
       " 'bmw.csv',\n",
       " 'cclass.csv',\n",
       " 'focus.csv',\n",
       " 'ford.csv',\n",
       " 'hyundi.csv',\n",
       " 'merc.csv',\n",
       " 'skoda.csv',\n",
       " 'toyota.csv',\n",
       " 'unclean cclass.csv',\n",
       " 'unclean focus.csv',\n",
       " 'vauxhall.csv',\n",
       " 'vw.csv']"
      ]
     },
     "execution_count": 2,
     "metadata": {},
     "output_type": "execute_result"
    }
   ],
   "source": [
    "# Checking the names of all csv files in the data set\n",
    "\n",
    "all_csv_files = glob.glob(\"*.csv\")\n",
    "all_csv_files"
   ]
  },
  {
   "cell_type": "markdown",
   "id": "01b0bd6a",
   "metadata": {},
   "source": [
    "> **I found that there is 2 uncleaned data files named (unclean cclass.csv, unclean focus.csv)  so i have to deal with them separately**"
   ]
  },
  {
   "cell_type": "code",
   "execution_count": 3,
   "id": "b63271a5",
   "metadata": {},
   "outputs": [
    {
     "name": "stdout",
     "output_type": "stream",
     "text": [
      "audi.csv\n",
      "----------\n",
      "Index(['model', 'year', 'price', 'transmission', 'mileage', 'fuelType', 'tax',\n",
      "       'mpg', 'engineSize'],\n",
      "      dtype='object')\n",
      "======================================================================\n",
      "bmw.csv\n",
      "----------\n",
      "Index(['model', 'year', 'price', 'transmission', 'mileage', 'fuelType', 'tax',\n",
      "       'mpg', 'engineSize'],\n",
      "      dtype='object')\n",
      "======================================================================\n",
      "cclass.csv\n",
      "----------\n",
      "Index(['model', 'year', 'price', 'transmission', 'mileage', 'fuelType',\n",
      "       'engineSize'],\n",
      "      dtype='object')\n",
      "======================================================================\n",
      "focus.csv\n",
      "----------\n",
      "Index(['model', 'year', 'price', 'transmission', 'mileage', 'fuelType',\n",
      "       'engineSize'],\n",
      "      dtype='object')\n",
      "======================================================================\n",
      "ford.csv\n",
      "----------\n",
      "Index(['model', 'year', 'price', 'transmission', 'mileage', 'fuelType', 'tax',\n",
      "       'mpg', 'engineSize'],\n",
      "      dtype='object')\n",
      "======================================================================\n",
      "hyundi.csv\n",
      "----------\n",
      "Index(['model', 'year', 'price', 'transmission', 'mileage', 'fuelType',\n",
      "       'tax(£)', 'mpg', 'engineSize'],\n",
      "      dtype='object')\n",
      "======================================================================\n",
      "merc.csv\n",
      "----------\n",
      "Index(['model', 'year', 'price', 'transmission', 'mileage', 'fuelType', 'tax',\n",
      "       'mpg', 'engineSize'],\n",
      "      dtype='object')\n",
      "======================================================================\n",
      "skoda.csv\n",
      "----------\n",
      "Index(['model', 'year', 'price', 'transmission', 'mileage', 'fuelType', 'tax',\n",
      "       'mpg', 'engineSize'],\n",
      "      dtype='object')\n",
      "======================================================================\n",
      "toyota.csv\n",
      "----------\n",
      "Index(['model', 'year', 'price', 'transmission', 'mileage', 'fuelType', 'tax',\n",
      "       'mpg', 'engineSize'],\n",
      "      dtype='object')\n",
      "======================================================================\n",
      "unclean cclass.csv\n",
      "----------\n",
      "Index(['model', 'year', 'price', 'transmission', 'mileage', 'fuel type',\n",
      "       'engine size', 'mileage2', 'fuel type2', 'engine size2', 'reference'],\n",
      "      dtype='object')\n",
      "======================================================================\n",
      "unclean focus.csv\n",
      "----------\n",
      "Index(['model', 'year', 'price', 'transmission', 'mileage', 'fuel type',\n",
      "       'engine size', 'mileage2', 'fuel type2', 'engine size2', 'reference'],\n",
      "      dtype='object')\n",
      "======================================================================\n",
      "vauxhall.csv\n",
      "----------\n",
      "Index(['model', 'year', 'price', 'transmission', 'mileage', 'fuelType', 'tax',\n",
      "       'mpg', 'engineSize'],\n",
      "      dtype='object')\n",
      "======================================================================\n",
      "vw.csv\n",
      "----------\n",
      "Index(['model', 'year', 'price', 'transmission', 'mileage', 'fuelType', 'tax',\n",
      "       'mpg', 'engineSize'],\n",
      "      dtype='object')\n",
      "======================================================================\n"
     ]
    }
   ],
   "source": [
    "#check the columns in each csv\n",
    "\n",
    "for i in all_csv_files:\n",
    "    pd.read_csv(i)\n",
    "    print(i)\n",
    "    print('-'*10)\n",
    "    print(pd.read_csv(i).columns)\n",
    "    print('='*70)"
   ]
  },
  {
   "cell_type": "markdown",
   "id": "b4987449",
   "metadata": {},
   "source": [
    "> ### I found that:\n",
    "**1) these csv files have complete columns (audi.csv, bmw.csv, ford.csv, merc.csv, skoda.csv, toyota.csv, vauxhall.csv, vw.csv).**\n",
    "\n",
    "> #### 2) these csv files are missing tax column (cclass.csv, focus.csv)\n",
    "\n",
    "> #### 3) these csv files are missing mpg column (cclass.csv, focus.csv)\n",
    "\n",
    "> #### 4) hyundi.csv file have a column named tax(£) which should be tax.\n",
    "\n",
    "> #### 5) the two unclead files have a different columns than the others, so i have to deal with both of them separately.\n",
    "\n",
    "> #### 6) I need to add company column which contains company name for all files"
   ]
  },
  {
   "cell_type": "code",
   "execution_count": 4,
   "id": "220777af",
   "metadata": {},
   "outputs": [
    {
     "data": {
      "text/plain": [
       "['audi.csv',\n",
       " 'bmw.csv',\n",
       " 'cclass.csv',\n",
       " 'focus.csv',\n",
       " 'ford.csv',\n",
       " 'hyundi.csv',\n",
       " 'merc.csv',\n",
       " 'skoda.csv',\n",
       " 'toyota.csv',\n",
       " 'vauxhall.csv',\n",
       " 'vw.csv']"
      ]
     },
     "execution_count": 4,
     "metadata": {},
     "output_type": "execute_result"
    }
   ],
   "source": [
    "# Making the clean files in one list\n",
    "\n",
    "clean_csv_files = all_csv_files\n",
    "clean_csv_files.remove('unclean cclass.csv')\n",
    "clean_csv_files.remove('unclean focus.csv')\n",
    "clean_csv_files"
   ]
  },
  {
   "cell_type": "code",
   "execution_count": 5,
   "id": "91f8422c",
   "metadata": {},
   "outputs": [],
   "source": [
    "clean_dataframes=[]\n",
    "\n",
    "for i in clean_csv_files:\n",
    "    \n",
    "    # Solving finding no.6 (add company column which contains company name)\n",
    "    company_name= i.split('.')[0]\n",
    "    df=pd.read_csv(i)\n",
    "    df['company name'] = company_name\n",
    "    \n",
    "    # solving finding no.4 (column named tax(£) should be tax)\n",
    "    if i == 'hyundi.csv':\n",
    "        df.rename(columns={'tax(£)': 'tax'}, inplace=True)\n",
    "        \n",
    "    # solving finding no.2 & no.3 ( missing columns in (cclass.csv, focus.csv))    \n",
    "    elif i == 'cclass.csv' or i == 'focus.csv' :\n",
    "        df['tax'] = np.nan\n",
    "        df['mpg'] = np.nan\n",
    "        \n",
    "    clean_dataframes.append(df)\n",
    "    \n",
    "    \n",
    "    "
   ]
  },
  {
   "cell_type": "code",
   "execution_count": 6,
   "id": "df96f905",
   "metadata": {},
   "outputs": [
    {
     "data": {
      "text/html": [
       "<div>\n",
       "<style scoped>\n",
       "    .dataframe tbody tr th:only-of-type {\n",
       "        vertical-align: middle;\n",
       "    }\n",
       "\n",
       "    .dataframe tbody tr th {\n",
       "        vertical-align: top;\n",
       "    }\n",
       "\n",
       "    .dataframe thead th {\n",
       "        text-align: right;\n",
       "    }\n",
       "</style>\n",
       "<table border=\"1\" class=\"dataframe\">\n",
       "  <thead>\n",
       "    <tr style=\"text-align: right;\">\n",
       "      <th></th>\n",
       "      <th>model</th>\n",
       "      <th>year</th>\n",
       "      <th>price</th>\n",
       "      <th>transmission</th>\n",
       "      <th>mileage</th>\n",
       "      <th>fuelType</th>\n",
       "      <th>tax</th>\n",
       "      <th>mpg</th>\n",
       "      <th>engineSize</th>\n",
       "      <th>company name</th>\n",
       "    </tr>\n",
       "  </thead>\n",
       "  <tbody>\n",
       "    <tr>\n",
       "      <th>0</th>\n",
       "      <td>A1</td>\n",
       "      <td>2017</td>\n",
       "      <td>12500</td>\n",
       "      <td>Manual</td>\n",
       "      <td>15735</td>\n",
       "      <td>Petrol</td>\n",
       "      <td>150.0</td>\n",
       "      <td>55.4</td>\n",
       "      <td>1.4</td>\n",
       "      <td>audi</td>\n",
       "    </tr>\n",
       "    <tr>\n",
       "      <th>1</th>\n",
       "      <td>A6</td>\n",
       "      <td>2016</td>\n",
       "      <td>16500</td>\n",
       "      <td>Automatic</td>\n",
       "      <td>36203</td>\n",
       "      <td>Diesel</td>\n",
       "      <td>20.0</td>\n",
       "      <td>64.2</td>\n",
       "      <td>2.0</td>\n",
       "      <td>audi</td>\n",
       "    </tr>\n",
       "    <tr>\n",
       "      <th>2</th>\n",
       "      <td>A1</td>\n",
       "      <td>2016</td>\n",
       "      <td>11000</td>\n",
       "      <td>Manual</td>\n",
       "      <td>29946</td>\n",
       "      <td>Petrol</td>\n",
       "      <td>30.0</td>\n",
       "      <td>55.4</td>\n",
       "      <td>1.4</td>\n",
       "      <td>audi</td>\n",
       "    </tr>\n",
       "    <tr>\n",
       "      <th>3</th>\n",
       "      <td>A4</td>\n",
       "      <td>2017</td>\n",
       "      <td>16800</td>\n",
       "      <td>Automatic</td>\n",
       "      <td>25952</td>\n",
       "      <td>Diesel</td>\n",
       "      <td>145.0</td>\n",
       "      <td>67.3</td>\n",
       "      <td>2.0</td>\n",
       "      <td>audi</td>\n",
       "    </tr>\n",
       "    <tr>\n",
       "      <th>4</th>\n",
       "      <td>A3</td>\n",
       "      <td>2019</td>\n",
       "      <td>17300</td>\n",
       "      <td>Manual</td>\n",
       "      <td>1998</td>\n",
       "      <td>Petrol</td>\n",
       "      <td>145.0</td>\n",
       "      <td>49.6</td>\n",
       "      <td>1.0</td>\n",
       "      <td>audi</td>\n",
       "    </tr>\n",
       "  </tbody>\n",
       "</table>\n",
       "</div>"
      ],
      "text/plain": [
       "  model  year  price transmission  mileage fuelType    tax   mpg  engineSize  \\\n",
       "0    A1  2017  12500       Manual    15735   Petrol  150.0  55.4         1.4   \n",
       "1    A6  2016  16500    Automatic    36203   Diesel   20.0  64.2         2.0   \n",
       "2    A1  2016  11000       Manual    29946   Petrol   30.0  55.4         1.4   \n",
       "3    A4  2017  16800    Automatic    25952   Diesel  145.0  67.3         2.0   \n",
       "4    A3  2019  17300       Manual     1998   Petrol  145.0  49.6         1.0   \n",
       "\n",
       "  company name  \n",
       "0         audi  \n",
       "1         audi  \n",
       "2         audi  \n",
       "3         audi  \n",
       "4         audi  "
      ]
     },
     "execution_count": 6,
     "metadata": {},
     "output_type": "execute_result"
    }
   ],
   "source": [
    "# Merging all clean data in one data frame called (df_clean)\n",
    "\n",
    "df_clean = pd.concat(clean_dataframes, axis=0, ignore_index=True)\n",
    "df_clean.head()"
   ]
  },
  {
   "cell_type": "code",
   "execution_count": 7,
   "id": "867d33e7",
   "metadata": {},
   "outputs": [
    {
     "data": {
      "text/plain": [
       "(108540, 10)"
      ]
     },
     "execution_count": 7,
     "metadata": {},
     "output_type": "execute_result"
    }
   ],
   "source": [
    "df_clean.shape"
   ]
  },
  {
   "cell_type": "code",
   "execution_count": 8,
   "id": "8766fa33",
   "metadata": {},
   "outputs": [
    {
     "data": {
      "text/html": [
       "<div>\n",
       "<style scoped>\n",
       "    .dataframe tbody tr th:only-of-type {\n",
       "        vertical-align: middle;\n",
       "    }\n",
       "\n",
       "    .dataframe tbody tr th {\n",
       "        vertical-align: top;\n",
       "    }\n",
       "\n",
       "    .dataframe thead th {\n",
       "        text-align: right;\n",
       "    }\n",
       "</style>\n",
       "<table border=\"1\" class=\"dataframe\">\n",
       "  <thead>\n",
       "    <tr style=\"text-align: right;\">\n",
       "      <th></th>\n",
       "      <th>year</th>\n",
       "      <th>price</th>\n",
       "      <th>mileage</th>\n",
       "      <th>tax</th>\n",
       "      <th>mpg</th>\n",
       "      <th>engineSize</th>\n",
       "    </tr>\n",
       "  </thead>\n",
       "  <tbody>\n",
       "    <tr>\n",
       "      <th>count</th>\n",
       "      <td>108540.000000</td>\n",
       "      <td>108540.000000</td>\n",
       "      <td>108540.000000</td>\n",
       "      <td>99187.000000</td>\n",
       "      <td>99187.000000</td>\n",
       "      <td>108540.000000</td>\n",
       "    </tr>\n",
       "    <tr>\n",
       "      <th>mean</th>\n",
       "      <td>2017.098028</td>\n",
       "      <td>16890.124046</td>\n",
       "      <td>23025.928469</td>\n",
       "      <td>120.299838</td>\n",
       "      <td>55.166825</td>\n",
       "      <td>1.661644</td>\n",
       "    </tr>\n",
       "    <tr>\n",
       "      <th>std</th>\n",
       "      <td>2.130057</td>\n",
       "      <td>9756.266820</td>\n",
       "      <td>21176.423684</td>\n",
       "      <td>63.150926</td>\n",
       "      <td>16.138522</td>\n",
       "      <td>0.557058</td>\n",
       "    </tr>\n",
       "    <tr>\n",
       "      <th>min</th>\n",
       "      <td>1970.000000</td>\n",
       "      <td>450.000000</td>\n",
       "      <td>1.000000</td>\n",
       "      <td>0.000000</td>\n",
       "      <td>0.300000</td>\n",
       "      <td>0.000000</td>\n",
       "    </tr>\n",
       "    <tr>\n",
       "      <th>25%</th>\n",
       "      <td>2016.000000</td>\n",
       "      <td>10229.500000</td>\n",
       "      <td>7491.750000</td>\n",
       "      <td>125.000000</td>\n",
       "      <td>47.100000</td>\n",
       "      <td>1.200000</td>\n",
       "    </tr>\n",
       "    <tr>\n",
       "      <th>50%</th>\n",
       "      <td>2017.000000</td>\n",
       "      <td>14698.000000</td>\n",
       "      <td>17265.000000</td>\n",
       "      <td>145.000000</td>\n",
       "      <td>54.300000</td>\n",
       "      <td>1.600000</td>\n",
       "    </tr>\n",
       "    <tr>\n",
       "      <th>75%</th>\n",
       "      <td>2019.000000</td>\n",
       "      <td>20940.000000</td>\n",
       "      <td>32236.000000</td>\n",
       "      <td>145.000000</td>\n",
       "      <td>62.800000</td>\n",
       "      <td>2.000000</td>\n",
       "    </tr>\n",
       "    <tr>\n",
       "      <th>max</th>\n",
       "      <td>2060.000000</td>\n",
       "      <td>159999.000000</td>\n",
       "      <td>323000.000000</td>\n",
       "      <td>580.000000</td>\n",
       "      <td>470.800000</td>\n",
       "      <td>6.600000</td>\n",
       "    </tr>\n",
       "  </tbody>\n",
       "</table>\n",
       "</div>"
      ],
      "text/plain": [
       "                year          price        mileage           tax  \\\n",
       "count  108540.000000  108540.000000  108540.000000  99187.000000   \n",
       "mean     2017.098028   16890.124046   23025.928469    120.299838   \n",
       "std         2.130057    9756.266820   21176.423684     63.150926   \n",
       "min      1970.000000     450.000000       1.000000      0.000000   \n",
       "25%      2016.000000   10229.500000    7491.750000    125.000000   \n",
       "50%      2017.000000   14698.000000   17265.000000    145.000000   \n",
       "75%      2019.000000   20940.000000   32236.000000    145.000000   \n",
       "max      2060.000000  159999.000000  323000.000000    580.000000   \n",
       "\n",
       "                mpg     engineSize  \n",
       "count  99187.000000  108540.000000  \n",
       "mean      55.166825       1.661644  \n",
       "std       16.138522       0.557058  \n",
       "min        0.300000       0.000000  \n",
       "25%       47.100000       1.200000  \n",
       "50%       54.300000       1.600000  \n",
       "75%       62.800000       2.000000  \n",
       "max      470.800000       6.600000  "
      ]
     },
     "execution_count": 8,
     "metadata": {},
     "output_type": "execute_result"
    }
   ],
   "source": [
    "df_clean.describe()"
   ]
  },
  {
   "cell_type": "code",
   "execution_count": null,
   "id": "b0c8490a",
   "metadata": {},
   "outputs": [],
   "source": []
  },
  {
   "cell_type": "code",
   "execution_count": 9,
   "id": "b17e4ffc",
   "metadata": {
    "scrolled": true
   },
   "outputs": [
    {
     "data": {
      "text/html": [
       "<div>\n",
       "<style scoped>\n",
       "    .dataframe tbody tr th:only-of-type {\n",
       "        vertical-align: middle;\n",
       "    }\n",
       "\n",
       "    .dataframe tbody tr th {\n",
       "        vertical-align: top;\n",
       "    }\n",
       "\n",
       "    .dataframe thead th {\n",
       "        text-align: right;\n",
       "    }\n",
       "</style>\n",
       "<table border=\"1\" class=\"dataframe\">\n",
       "  <thead>\n",
       "    <tr style=\"text-align: right;\">\n",
       "      <th></th>\n",
       "      <th>model</th>\n",
       "      <th>year</th>\n",
       "      <th>price</th>\n",
       "      <th>transmission</th>\n",
       "      <th>mileage</th>\n",
       "      <th>fuel type</th>\n",
       "      <th>engine size</th>\n",
       "      <th>mileage2</th>\n",
       "      <th>fuel type2</th>\n",
       "      <th>engine size2</th>\n",
       "      <th>reference</th>\n",
       "      <th>company name</th>\n",
       "    </tr>\n",
       "  </thead>\n",
       "  <tbody>\n",
       "    <tr>\n",
       "      <th>0</th>\n",
       "      <td>Focus</td>\n",
       "      <td>2016.0</td>\n",
       "      <td>£8,000</td>\n",
       "      <td>Manual</td>\n",
       "      <td>NaN</td>\n",
       "      <td>Petrol</td>\n",
       "      <td>0.999</td>\n",
       "      <td>38,852</td>\n",
       "      <td>NaN</td>\n",
       "      <td>NaN</td>\n",
       "      <td>/ad/25451236</td>\n",
       "      <td>focus</td>\n",
       "    </tr>\n",
       "    <tr>\n",
       "      <th>1</th>\n",
       "      <td>Focus</td>\n",
       "      <td>2019.0</td>\n",
       "      <td>£13,400</td>\n",
       "      <td>Manual</td>\n",
       "      <td>NaN</td>\n",
       "      <td>Petrol</td>\n",
       "      <td>0.999</td>\n",
       "      <td>11,952</td>\n",
       "      <td>NaN</td>\n",
       "      <td>NaN</td>\n",
       "      <td>/ad/25466927</td>\n",
       "      <td>focus</td>\n",
       "    </tr>\n",
       "    <tr>\n",
       "      <th>2</th>\n",
       "      <td>Focus</td>\n",
       "      <td>2019.0</td>\n",
       "      <td>£14,600</td>\n",
       "      <td>Manual</td>\n",
       "      <td>NaN</td>\n",
       "      <td>Petrol</td>\n",
       "      <td>1.498</td>\n",
       "      <td>22,142</td>\n",
       "      <td>NaN</td>\n",
       "      <td>NaN</td>\n",
       "      <td>/ad/25484363</td>\n",
       "      <td>focus</td>\n",
       "    </tr>\n",
       "    <tr>\n",
       "      <th>3</th>\n",
       "      <td>Focus</td>\n",
       "      <td>2016.0</td>\n",
       "      <td>£9,450</td>\n",
       "      <td>Manual</td>\n",
       "      <td>NaN</td>\n",
       "      <td>Diesel</td>\n",
       "      <td>1.56</td>\n",
       "      <td>14,549</td>\n",
       "      <td>NaN</td>\n",
       "      <td>NaN</td>\n",
       "      <td>/ad/20444868</td>\n",
       "      <td>focus</td>\n",
       "    </tr>\n",
       "    <tr>\n",
       "      <th>4</th>\n",
       "      <td>Focus</td>\n",
       "      <td>2015.0</td>\n",
       "      <td>£9,999</td>\n",
       "      <td>Manual</td>\n",
       "      <td>NaN</td>\n",
       "      <td>Diesel</td>\n",
       "      <td>1.56</td>\n",
       "      <td>7,010</td>\n",
       "      <td>NaN</td>\n",
       "      <td>NaN</td>\n",
       "      <td>/ad/22551057</td>\n",
       "      <td>focus</td>\n",
       "    </tr>\n",
       "  </tbody>\n",
       "</table>\n",
       "</div>"
      ],
      "text/plain": [
       "    model    year     price transmission mileage fuel type engine size  \\\n",
       "0   Focus  2016.0    £8,000       Manual     NaN    Petrol       0.999   \n",
       "1   Focus  2019.0   £13,400       Manual     NaN    Petrol       0.999   \n",
       "2   Focus  2019.0   £14,600       Manual     NaN    Petrol       1.498   \n",
       "3   Focus  2016.0    £9,450       Manual     NaN    Diesel        1.56   \n",
       "4   Focus  2015.0    £9,999       Manual     NaN    Diesel        1.56   \n",
       "\n",
       "  mileage2 fuel type2 engine size2     reference company name  \n",
       "0   38,852        NaN          NaN  /ad/25451236        focus  \n",
       "1   11,952        NaN          NaN  /ad/25466927        focus  \n",
       "2   22,142        NaN          NaN  /ad/25484363        focus  \n",
       "3   14,549        NaN          NaN  /ad/20444868        focus  \n",
       "4    7,010        NaN          NaN  /ad/22551057        focus  "
      ]
     },
     "execution_count": 9,
     "metadata": {},
     "output_type": "execute_result"
    }
   ],
   "source": [
    "# Merging all unclean data in one data frame called (df_unclean).\n",
    "# unclean files (focus.csv & unclean cclass.csv) already have the same columns.\n",
    "\n",
    "\n",
    "unclean_csv_files=['unclean focus.csv' , 'unclean cclass.csv']\n",
    "\n",
    "unclean_dataframes=[]\n",
    "\n",
    "for i in unclean_csv_files:\n",
    "    \n",
    "    # Solving finding no.6 (add company column which contains company name)\n",
    "    company_name= i.split('.')[0].split(' ')[1]\n",
    "    df=pd.read_csv(i)\n",
    "    df['company name'] = company_name\n",
    "       \n",
    "    unclean_dataframes.append(df)\n",
    "    \n",
    "df_unclean = pd.concat(unclean_dataframes, axis=0, ignore_index=True)   \n",
    "df_unclean.head()"
   ]
  },
  {
   "cell_type": "code",
   "execution_count": 10,
   "id": "03485b77",
   "metadata": {},
   "outputs": [
    {
     "data": {
      "text/plain": [
       "(9610, 12)"
      ]
     },
     "execution_count": 10,
     "metadata": {},
     "output_type": "execute_result"
    }
   ],
   "source": [
    "df_unclean.shape"
   ]
  },
  {
   "cell_type": "code",
   "execution_count": 11,
   "id": "a60072a2",
   "metadata": {},
   "outputs": [
    {
     "name": "stdout",
     "output_type": "stream",
     "text": [
      "<class 'pandas.core.frame.DataFrame'>\n",
      "RangeIndex: 9610 entries, 0 to 9609\n",
      "Data columns (total 12 columns):\n",
      " #   Column        Non-Null Count  Dtype  \n",
      "---  ------        --------------  -----  \n",
      " 0   model         9455 non-null   object \n",
      " 1   year          9363 non-null   float64\n",
      " 2   price         9455 non-null   object \n",
      " 3   transmission  9455 non-null   object \n",
      " 4   mileage       8537 non-null   object \n",
      " 5   fuel type     3517 non-null   object \n",
      " 6   engine size   9345 non-null   object \n",
      " 7   mileage2      9399 non-null   object \n",
      " 8   fuel type2    8537 non-null   object \n",
      " 9   engine size2  8537 non-null   object \n",
      " 10  reference     9455 non-null   object \n",
      " 11  company name  9610 non-null   object \n",
      "dtypes: float64(1), object(11)\n",
      "memory usage: 901.1+ KB\n"
     ]
    }
   ],
   "source": [
    "df_unclean.info()"
   ]
  },
  {
   "cell_type": "code",
   "execution_count": 12,
   "id": "e885fb8f",
   "metadata": {},
   "outputs": [
    {
     "name": "stdout",
     "output_type": "stream",
     "text": [
      "model\n",
      "---------------\n",
      " Focus      5548\n",
      " C Class    3907\n",
      "Name: model, dtype: int64\n",
      "==================================================\n",
      "year\n",
      "---------------\n",
      "2019.0    3184\n",
      "2017.0    1954\n",
      "2018.0    1428\n",
      "2016.0    1098\n",
      "2015.0     714\n",
      "2014.0     292\n",
      "2013.0     216\n",
      "2020.0     196\n",
      "2012.0      68\n",
      "2011.0      45\n",
      "2009.0      44\n",
      "2008.0      34\n",
      "2010.0      30\n",
      "2007.0      22\n",
      "2005.0      16\n",
      "2006.0       6\n",
      "2002.0       5\n",
      "2003.0       5\n",
      "2004.0       3\n",
      "1991.0       1\n",
      "1995.0       1\n",
      "1998.0       1\n",
      "Name: year, dtype: int64\n",
      "==================================================\n",
      "price\n",
      "---------------\n",
      " £11,000    78\n",
      " £16,000    77\n",
      " £12,000    68\n",
      " £13,000    59\n",
      " £16,998    55\n",
      "            ..\n",
      " £16,294     1\n",
      " £31,349     1\n",
      " £49,991     1\n",
      " £23,624     1\n",
      " £7,761      1\n",
      "Name: price, Length: 3140, dtype: int64\n",
      "==================================================\n",
      "transmission\n",
      "---------------\n",
      "Manual       4955\n",
      "Automatic    2273\n",
      "Semi-Auto    2226\n",
      "Other           1\n",
      "Name: transmission, dtype: int64\n",
      "==================================================\n",
      "mileage\n",
      "---------------\n",
      "1,000     81\n",
      "2,000     24\n",
      "100       23\n",
      "16        21\n",
      "6,000     21\n",
      "          ..\n",
      "16,714     1\n",
      "860        1\n",
      "24,700     1\n",
      "8,746      1\n",
      "6,374      1\n",
      "Name: mileage, Length: 6896, dtype: int64\n",
      "==================================================\n",
      "fuel type\n",
      "---------------\n",
      "Petrol    552\n",
      "14        425\n",
      "Diesel    363\n",
      "31        311\n",
      "32        240\n",
      "11        197\n",
      "38        175\n",
      "26        165\n",
      "15        153\n",
      "37        101\n",
      "24         90\n",
      "16         79\n",
      "30         76\n",
      "36         70\n",
      "12         69\n",
      "25         67\n",
      "33         66\n",
      "29         57\n",
      "10         44\n",
      "34         33\n",
      "13         24\n",
      "22         23\n",
      "35         21\n",
      "40         19\n",
      "39         17\n",
      "43         13\n",
      "27         12\n",
      "21          7\n",
      "44          6\n",
      "18          6\n",
      "19          5\n",
      "17          4\n",
      "46          4\n",
      "9           4\n",
      "45          3\n",
      "47          3\n",
      "28          3\n",
      "Hybrid      3\n",
      "20          2\n",
      "8           2\n",
      "7           1\n",
      "48          1\n",
      "6           1\n",
      "Name: fuel type, dtype: int64\n",
      "==================================================\n",
      "engine size\n",
      "---------------\n",
      "£145    4785\n",
      "£20     1013\n",
      "£0       630\n",
      "£30      564\n",
      "£150     511\n",
      "        ... \n",
      "2100       1\n",
      "1498       1\n",
      "£120       1\n",
      "£290       1\n",
      "£185       1\n",
      "Name: engine size, Length: 68, dtype: int64\n",
      "==================================================\n",
      "mileage2\n",
      "---------------\n",
      "60.1      1210\n",
      "74.3       928\n",
      "61.4       722\n",
      "64.2       721\n",
      "67.3       517\n",
      "          ... \n",
      "28.3         1\n",
      "21,154       1\n",
      "77,368       1\n",
      "22,142       1\n",
      "71,000       1\n",
      "Name: mileage2, Length: 313, dtype: int64\n",
      "==================================================\n",
      "fuel type2\n",
      "---------------\n",
      "Petrol    4457\n",
      "Diesel    3923\n",
      "Hybrid     150\n",
      "Other        7\n",
      "Name: fuel type2, dtype: int64\n",
      "==================================================\n",
      "engine size2\n",
      "---------------\n",
      "1          1972\n",
      "2          1929\n",
      "1.5        1636\n",
      "2.1         985\n",
      "1.6         459\n",
      "           ... \n",
      "2.996         1\n",
      "3606          1\n",
      "2.7           1\n",
      "2497          1\n",
      "1596 cc       1\n",
      "Name: engine size2, Length: 82, dtype: int64\n",
      "==================================================\n",
      "reference\n",
      "---------------\n",
      "/ad/22345751    1\n",
      "/ad/25284313    1\n",
      "/ad/25452888    1\n",
      "/ad/25174789    1\n",
      "/ad/25484968    1\n",
      "               ..\n",
      "/ad/25134422    1\n",
      "/ad/25464910    1\n",
      "/ad/25407248    1\n",
      "/ad/25366754    1\n",
      "/ad/25272823    1\n",
      "Name: reference, Length: 9455, dtype: int64\n",
      "==================================================\n",
      "company name\n",
      "---------------\n",
      "focus     5604\n",
      "cclass    4006\n",
      "Name: company name, dtype: int64\n",
      "==================================================\n"
     ]
    }
   ],
   "source": [
    "for col in df_unclean.columns:\n",
    "    print(col)\n",
    "    print('-'*15)\n",
    "    print(df_unclean[col].value_counts())\n",
    "    print('='*50)"
   ]
  },
  {
   "cell_type": "markdown",
   "id": "5fb50570",
   "metadata": {},
   "source": [
    "### From the results above i found that:\n",
    "\n",
    "#### These columns are ok  [Company name, fuel type2, model, year, transmission]\n",
    "\n",
    "    •\t1- fuel type2 should be fuel type column because it has the correct data\n",
    "    •\t2- should remove pound symbol from price column values\n",
    "    •\t3- column reference should be dropped\n",
    "\n",
    "##### now we have 6 columns \n",
    "\n",
    "\n",
    "##### remaining cols are: [ 'mileage', ‘mileage2‘,  'tax', 'mpg', 'engineSize', 'engineSize2', ‘fuel type’]\n",
    "    •\t4- 'engineSize2' is ok but it have some values in cc instead of liter so it should be converted as 1 liter = 1000 cc, and    cc symbol should be removed, and this column should be the 'engineSize' column.\n",
    "    •\t5- Get mileage from taking the biggest value of mileage&mileage2 columns.\n",
    "    \t\n",
    "\n",
    "    •\t Until this stage the remaining columnss are: ['tax',  'mpg']\n",
    "    •\t6- Note that in df_clean the range of tax column was from 0 to 580 and the mean was 120, so I choose the engine size column in df_unclean to be tax column in df_unclean because the data in it fits to be tax.\n",
    "    •\t7- fuel type column should be dropped\n",
    "    •   8- creating mpg column \n"
   ]
  },
  {
   "cell_type": "code",
   "execution_count": 13,
   "id": "e06031a2",
   "metadata": {},
   "outputs": [],
   "source": [
    "# 3- Dropping reference column\n",
    "df_unclean.drop('reference',axis=1, inplace=True)"
   ]
  },
  {
   "cell_type": "code",
   "execution_count": 14,
   "id": "c9cf1276",
   "metadata": {},
   "outputs": [],
   "source": [
    "# 2- Clean price column \n",
    "df_unclean['price'] = [str(i).replace(\",\", \"\").strip() for i in df_unclean['price']]\n",
    "df_unclean['price'] = [float(str(i).replace(\"£\", \"\").strip()) for i in df_unclean['price']]"
   ]
  },
  {
   "cell_type": "code",
   "execution_count": 15,
   "id": "308e3fde",
   "metadata": {},
   "outputs": [
    {
     "data": {
      "text/plain": [
       "array([ 8000., 13400., 14600., ..., 18339., 25450., 23600.])"
      ]
     },
     "execution_count": 15,
     "metadata": {},
     "output_type": "execute_result"
    }
   ],
   "source": [
    "df_unclean['price'].unique()"
   ]
  },
  {
   "cell_type": "code",
   "execution_count": 16,
   "id": "7792a658",
   "metadata": {},
   "outputs": [
    {
     "data": {
      "text/plain": [
       "0         0.999\n",
       "1         0.999\n",
       "2         1.498\n",
       "3         1.560\n",
       "4         1.560\n",
       "         ...   \n",
       "9605    150.000\n",
       "9606    150.000\n",
       "9607     20.000\n",
       "9608    145.000\n",
       "9609     30.000\n",
       "Name: tax, Length: 9610, dtype: float64"
      ]
     },
     "execution_count": 16,
     "metadata": {},
     "output_type": "execute_result"
    }
   ],
   "source": [
    "# 6- making engine size column as tax column and clean it\n",
    "\n",
    "df_unclean.rename(columns={'engine size': 'tax'}, inplace=True)\n",
    "df_unclean['tax'] = [str(i).replace(\"£\", \"\").strip() for i in df_unclean['tax']]\n",
    "df_unclean['tax'] = [str(i).lower().replace(\"cc\", \"\").strip() for i in df_unclean['tax']]\n",
    "df_unclean['tax'] = [str(i).replace(\",\", \"\").strip() for i in df_unclean['tax']]\n",
    "df_unclean['tax'] = [float(str(i).strip()) for i in df_unclean['tax']]\n",
    "df_unclean['tax']"
   ]
  },
  {
   "cell_type": "code",
   "execution_count": 17,
   "id": "6c3c07d0",
   "metadata": {},
   "outputs": [],
   "source": [
    "# 7- fuel type column should be dropped\n",
    "df_unclean.drop('fuel type', axis=1, inplace = True)"
   ]
  },
  {
   "cell_type": "code",
   "execution_count": 18,
   "id": "870b7988",
   "metadata": {},
   "outputs": [],
   "source": [
    "# 8- creating mpg column \n",
    "df_unclean['mpg']= np.nan"
   ]
  },
  {
   "cell_type": "code",
   "execution_count": 19,
   "id": "536b48f0",
   "metadata": {},
   "outputs": [
    {
     "data": {
      "text/plain": [
       "array([nan, 'Petrol', 'Diesel', 'Other', 'Hybrid'], dtype=object)"
      ]
     },
     "execution_count": 19,
     "metadata": {},
     "output_type": "execute_result"
    }
   ],
   "source": [
    "# 1- fuel type2 should be fuel type column\n",
    "df_unclean.rename(columns={'fuel type2' : 'fuelType'}, inplace= True)\n",
    "df_unclean['fuelType'].unique()"
   ]
  },
  {
   "cell_type": "code",
   "execution_count": 20,
   "id": "0d6e46d0",
   "metadata": {},
   "outputs": [],
   "source": [
    "# 4- renaming 'engineSize2' column and clean it\n",
    "\n",
    "df_unclean.rename(columns={'engine size2' : 'engineSize'}, inplace= True)"
   ]
  },
  {
   "cell_type": "code",
   "execution_count": 21,
   "id": "fc776df9",
   "metadata": {
    "scrolled": true
   },
   "outputs": [
    {
     "data": {
      "text/html": [
       "<div>\n",
       "<style scoped>\n",
       "    .dataframe tbody tr th:only-of-type {\n",
       "        vertical-align: middle;\n",
       "    }\n",
       "\n",
       "    .dataframe tbody tr th {\n",
       "        vertical-align: top;\n",
       "    }\n",
       "\n",
       "    .dataframe thead th {\n",
       "        text-align: right;\n",
       "    }\n",
       "</style>\n",
       "<table border=\"1\" class=\"dataframe\">\n",
       "  <thead>\n",
       "    <tr style=\"text-align: right;\">\n",
       "      <th></th>\n",
       "      <th>model</th>\n",
       "      <th>year</th>\n",
       "      <th>price</th>\n",
       "      <th>transmission</th>\n",
       "      <th>mileage</th>\n",
       "      <th>tax</th>\n",
       "      <th>mileage2</th>\n",
       "      <th>fuelType</th>\n",
       "      <th>engineSize</th>\n",
       "      <th>company name</th>\n",
       "      <th>mpg</th>\n",
       "    </tr>\n",
       "  </thead>\n",
       "  <tbody>\n",
       "    <tr>\n",
       "      <th>0</th>\n",
       "      <td>Focus</td>\n",
       "      <td>2016.0</td>\n",
       "      <td>8000.0</td>\n",
       "      <td>Manual</td>\n",
       "      <td>NaN</td>\n",
       "      <td>0.999</td>\n",
       "      <td>38,852</td>\n",
       "      <td>NaN</td>\n",
       "      <td>NaN</td>\n",
       "      <td>focus</td>\n",
       "      <td>NaN</td>\n",
       "    </tr>\n",
       "    <tr>\n",
       "      <th>1</th>\n",
       "      <td>Focus</td>\n",
       "      <td>2019.0</td>\n",
       "      <td>13400.0</td>\n",
       "      <td>Manual</td>\n",
       "      <td>NaN</td>\n",
       "      <td>0.999</td>\n",
       "      <td>11,952</td>\n",
       "      <td>NaN</td>\n",
       "      <td>NaN</td>\n",
       "      <td>focus</td>\n",
       "      <td>NaN</td>\n",
       "    </tr>\n",
       "    <tr>\n",
       "      <th>2</th>\n",
       "      <td>Focus</td>\n",
       "      <td>2019.0</td>\n",
       "      <td>14600.0</td>\n",
       "      <td>Manual</td>\n",
       "      <td>NaN</td>\n",
       "      <td>1.498</td>\n",
       "      <td>22,142</td>\n",
       "      <td>NaN</td>\n",
       "      <td>NaN</td>\n",
       "      <td>focus</td>\n",
       "      <td>NaN</td>\n",
       "    </tr>\n",
       "    <tr>\n",
       "      <th>3</th>\n",
       "      <td>Focus</td>\n",
       "      <td>2016.0</td>\n",
       "      <td>9450.0</td>\n",
       "      <td>Manual</td>\n",
       "      <td>NaN</td>\n",
       "      <td>1.560</td>\n",
       "      <td>14,549</td>\n",
       "      <td>NaN</td>\n",
       "      <td>NaN</td>\n",
       "      <td>focus</td>\n",
       "      <td>NaN</td>\n",
       "    </tr>\n",
       "    <tr>\n",
       "      <th>4</th>\n",
       "      <td>Focus</td>\n",
       "      <td>2015.0</td>\n",
       "      <td>9999.0</td>\n",
       "      <td>Manual</td>\n",
       "      <td>NaN</td>\n",
       "      <td>1.560</td>\n",
       "      <td>7,010</td>\n",
       "      <td>NaN</td>\n",
       "      <td>NaN</td>\n",
       "      <td>focus</td>\n",
       "      <td>NaN</td>\n",
       "    </tr>\n",
       "    <tr>\n",
       "      <th>...</th>\n",
       "      <td>...</td>\n",
       "      <td>...</td>\n",
       "      <td>...</td>\n",
       "      <td>...</td>\n",
       "      <td>...</td>\n",
       "      <td>...</td>\n",
       "      <td>...</td>\n",
       "      <td>...</td>\n",
       "      <td>...</td>\n",
       "      <td>...</td>\n",
       "      <td>...</td>\n",
       "    </tr>\n",
       "    <tr>\n",
       "      <th>9605</th>\n",
       "      <td>C Class</td>\n",
       "      <td>2017.0</td>\n",
       "      <td>14700.0</td>\n",
       "      <td>Manual</td>\n",
       "      <td>31,357</td>\n",
       "      <td>150.000</td>\n",
       "      <td>70.6</td>\n",
       "      <td>Diesel</td>\n",
       "      <td>1.598</td>\n",
       "      <td>cclass</td>\n",
       "      <td>NaN</td>\n",
       "    </tr>\n",
       "    <tr>\n",
       "      <th>9606</th>\n",
       "      <td>C Class</td>\n",
       "      <td>2018.0</td>\n",
       "      <td>18500.0</td>\n",
       "      <td>Automatic</td>\n",
       "      <td>28,248</td>\n",
       "      <td>150.000</td>\n",
       "      <td>64.2</td>\n",
       "      <td>Diesel</td>\n",
       "      <td>2.143</td>\n",
       "      <td>cclass</td>\n",
       "      <td>NaN</td>\n",
       "    </tr>\n",
       "    <tr>\n",
       "      <th>9607</th>\n",
       "      <td>C Class</td>\n",
       "      <td>2014.0</td>\n",
       "      <td>11900.0</td>\n",
       "      <td>Manual</td>\n",
       "      <td>48,055</td>\n",
       "      <td>20.000</td>\n",
       "      <td>65.7</td>\n",
       "      <td>Diesel</td>\n",
       "      <td>2.143</td>\n",
       "      <td>cclass</td>\n",
       "      <td>NaN</td>\n",
       "    </tr>\n",
       "    <tr>\n",
       "      <th>9608</th>\n",
       "      <td>C Class</td>\n",
       "      <td>2014.0</td>\n",
       "      <td>11300.0</td>\n",
       "      <td>Automatic</td>\n",
       "      <td>49,865</td>\n",
       "      <td>145.000</td>\n",
       "      <td>56.5</td>\n",
       "      <td>Diesel</td>\n",
       "      <td>2.143</td>\n",
       "      <td>cclass</td>\n",
       "      <td>NaN</td>\n",
       "    </tr>\n",
       "    <tr>\n",
       "      <th>9609</th>\n",
       "      <td>C Class</td>\n",
       "      <td>2014.0</td>\n",
       "      <td>14800.0</td>\n",
       "      <td>Automatic</td>\n",
       "      <td>55,445</td>\n",
       "      <td>30.000</td>\n",
       "      <td>64.2</td>\n",
       "      <td>Diesel</td>\n",
       "      <td>2.143</td>\n",
       "      <td>cclass</td>\n",
       "      <td>NaN</td>\n",
       "    </tr>\n",
       "  </tbody>\n",
       "</table>\n",
       "<p>9610 rows × 11 columns</p>\n",
       "</div>"
      ],
      "text/plain": [
       "         model    year    price transmission mileage      tax mileage2  \\\n",
       "0        Focus  2016.0   8000.0       Manual     NaN    0.999   38,852   \n",
       "1        Focus  2019.0  13400.0       Manual     NaN    0.999   11,952   \n",
       "2        Focus  2019.0  14600.0       Manual     NaN    1.498   22,142   \n",
       "3        Focus  2016.0   9450.0       Manual     NaN    1.560   14,549   \n",
       "4        Focus  2015.0   9999.0       Manual     NaN    1.560    7,010   \n",
       "...        ...     ...      ...          ...     ...      ...      ...   \n",
       "9605   C Class  2017.0  14700.0       Manual  31,357  150.000     70.6   \n",
       "9606   C Class  2018.0  18500.0    Automatic  28,248  150.000     64.2   \n",
       "9607   C Class  2014.0  11900.0       Manual  48,055   20.000     65.7   \n",
       "9608   C Class  2014.0  11300.0    Automatic  49,865  145.000     56.5   \n",
       "9609   C Class  2014.0  14800.0    Automatic  55,445   30.000     64.2   \n",
       "\n",
       "     fuelType engineSize company name  mpg  \n",
       "0         NaN        NaN        focus  NaN  \n",
       "1         NaN        NaN        focus  NaN  \n",
       "2         NaN        NaN        focus  NaN  \n",
       "3         NaN        NaN        focus  NaN  \n",
       "4         NaN        NaN        focus  NaN  \n",
       "...       ...        ...          ...  ...  \n",
       "9605   Diesel      1.598       cclass  NaN  \n",
       "9606   Diesel      2.143       cclass  NaN  \n",
       "9607   Diesel      2.143       cclass  NaN  \n",
       "9608   Diesel      2.143       cclass  NaN  \n",
       "9609   Diesel      2.143       cclass  NaN  \n",
       "\n",
       "[9610 rows x 11 columns]"
      ]
     },
     "execution_count": 21,
     "metadata": {},
     "output_type": "execute_result"
    }
   ],
   "source": [
    "df_unclean"
   ]
  },
  {
   "cell_type": "code",
   "execution_count": 22,
   "id": "ec10261d",
   "metadata": {},
   "outputs": [
    {
     "data": {
      "text/plain": [
       "array([nan, '0.999', '1.499', '1.596', '1.997', '1', '1000', '1500',\n",
       "       '1.498', '2', '1.6', '1.5', '1.56', '1.8', '1600', '1999', '2.3',\n",
       "       '1596', '1798', '999', '1560', '1498', '998', '1997', '1499',\n",
       "       '1560 cc', '2000', '1988', '2521', '2261', '0', '2300', '0.998',\n",
       "       '1496', '1753', '1989', '2.5', '1596 cc', '2.29', 'Unknown',\n",
       "       '2.521', '1388', '1.0T', '2.1', '2143', '4', '1991', '1595', '6.2',\n",
       "       '2145', '1950', '1796', '3982', '3', '1598', '2996', '2100',\n",
       "       '1597', '1497', '1.991', '2148', '2.14', '2.143', '3498', '3000',\n",
       "       '2.7', '2685', '2.2', '2.996', '2962', '1998', '1461', '3606',\n",
       "       '4000', '1.598', '2497', '2987', '1.497', '2.15', '5439', '2597',\n",
       "       '1800', '6208'], dtype=object)"
      ]
     },
     "execution_count": 22,
     "metadata": {},
     "output_type": "execute_result"
    }
   ],
   "source": [
    "df_unclean['engineSize'].unique()"
   ]
  },
  {
   "cell_type": "code",
   "execution_count": 23,
   "id": "01e5d649",
   "metadata": {},
   "outputs": [],
   "source": [
    "#clean engineSize column\n",
    "\n",
    "df_unclean['engineSize'] = [str(i).replace('cc','').strip()  for i in df_unclean['engineSize']]\n",
    "df_unclean['engineSize'] = [str(i).replace('T','').strip()  for i in df_unclean['engineSize']]\n",
    "df_unclean['engineSize'] = [str(i).replace('Unknown','').strip()   for i in df_unclean['engineSize']]\n",
    "df_unclean['engineSize'] = pd.to_numeric(df_unclean['engineSize'], errors='coerce')\n",
    "\n",
    "# converting cc(cubic centimeters) to liters (1 liter = 1000 cc)\n",
    "df_unclean['engineSize'] = df_unclean.apply(lambda x: x['engineSize']/1000 if x['engineSize']> 20 else x['engineSize'] , axis=1)\n"
   ]
  },
  {
   "cell_type": "code",
   "execution_count": 24,
   "id": "46c7cb7c",
   "metadata": {},
   "outputs": [
    {
     "data": {
      "text/plain": [
       "array([  nan, 0.999, 1.499, 1.596, 1.997, 1.   , 1.5  , 1.498, 2.   ,\n",
       "       1.6  , 1.56 , 1.8  , 1.999, 2.3  , 1.798, 0.998, 1.988, 2.521,\n",
       "       2.261, 0.   , 1.496, 1.753, 1.989, 2.5  , 2.29 , 1.388, 2.1  ,\n",
       "       2.143, 4.   , 1.991, 1.595, 6.2  , 2.145, 1.95 , 1.796, 3.982,\n",
       "       3.   , 1.598, 2.996, 1.597, 1.497, 2.148, 2.14 , 3.498, 2.7  ,\n",
       "       2.685, 2.2  , 2.962, 1.998, 1.461, 3.606, 2.497, 2.987, 2.15 ,\n",
       "       5.439, 2.597, 6.208])"
      ]
     },
     "execution_count": 24,
     "metadata": {},
     "output_type": "execute_result"
    }
   ],
   "source": [
    "df_unclean['engineSize'].unique()"
   ]
  },
  {
   "cell_type": "code",
   "execution_count": 25,
   "id": "e633ca2f",
   "metadata": {},
   "outputs": [],
   "source": [
    "#clean milage columns\n",
    "mileage=['mileage','mileage2']\n",
    "for i in mileage:\n",
    "    df_unclean[i] = [str(i).split('.')[0] for i in df_unclean[i]]\n",
    "    df_unclean[i] = [str(i).replace(',', '') for i in df_unclean[i]]\n",
    "    df_unclean[i] = [str(i).replace('Unknown', '') for i in df_unclean[i]]\n",
    "    df_unclean[i]=df_unclean[i].replace('nan', '')\n",
    "    df_unclean[i] = pd.to_numeric(df_unclean[i])"
   ]
  },
  {
   "cell_type": "code",
   "execution_count": 26,
   "id": "daea1d17",
   "metadata": {},
   "outputs": [],
   "source": [
    "# 5- Get mileage by taking the biggest value of mileage&mileage2 columns\n",
    "\n",
    "df_unclean[\"mileage\"] = df_unclean.apply(lambda x: x[\"mileage\"] if x[\"mileage\"]!= np.NaN and x[\"mileage\"]>x[\"mileage2\"] else x[\"mileage2\"], axis=1)"
   ]
  },
  {
   "cell_type": "code",
   "execution_count": 27,
   "id": "850f4dff",
   "metadata": {},
   "outputs": [],
   "source": [
    "#drop old column\n",
    "df_unclean.drop([\"mileage2\"], inplace=True, axis=1)"
   ]
  },
  {
   "cell_type": "code",
   "execution_count": 28,
   "id": "d108768c",
   "metadata": {},
   "outputs": [
    {
     "data": {
      "text/html": [
       "<div>\n",
       "<style scoped>\n",
       "    .dataframe tbody tr th:only-of-type {\n",
       "        vertical-align: middle;\n",
       "    }\n",
       "\n",
       "    .dataframe tbody tr th {\n",
       "        vertical-align: top;\n",
       "    }\n",
       "\n",
       "    .dataframe thead th {\n",
       "        text-align: right;\n",
       "    }\n",
       "</style>\n",
       "<table border=\"1\" class=\"dataframe\">\n",
       "  <thead>\n",
       "    <tr style=\"text-align: right;\">\n",
       "      <th></th>\n",
       "      <th>model</th>\n",
       "      <th>year</th>\n",
       "      <th>price</th>\n",
       "      <th>transmission</th>\n",
       "      <th>mileage</th>\n",
       "      <th>tax</th>\n",
       "      <th>fuelType</th>\n",
       "      <th>engineSize</th>\n",
       "      <th>company name</th>\n",
       "      <th>mpg</th>\n",
       "    </tr>\n",
       "  </thead>\n",
       "  <tbody>\n",
       "    <tr>\n",
       "      <th>0</th>\n",
       "      <td>Focus</td>\n",
       "      <td>2016.0</td>\n",
       "      <td>8000.0</td>\n",
       "      <td>Manual</td>\n",
       "      <td>38852.0</td>\n",
       "      <td>0.999</td>\n",
       "      <td>NaN</td>\n",
       "      <td>NaN</td>\n",
       "      <td>focus</td>\n",
       "      <td>NaN</td>\n",
       "    </tr>\n",
       "    <tr>\n",
       "      <th>1</th>\n",
       "      <td>Focus</td>\n",
       "      <td>2019.0</td>\n",
       "      <td>13400.0</td>\n",
       "      <td>Manual</td>\n",
       "      <td>11952.0</td>\n",
       "      <td>0.999</td>\n",
       "      <td>NaN</td>\n",
       "      <td>NaN</td>\n",
       "      <td>focus</td>\n",
       "      <td>NaN</td>\n",
       "    </tr>\n",
       "    <tr>\n",
       "      <th>2</th>\n",
       "      <td>Focus</td>\n",
       "      <td>2019.0</td>\n",
       "      <td>14600.0</td>\n",
       "      <td>Manual</td>\n",
       "      <td>22142.0</td>\n",
       "      <td>1.498</td>\n",
       "      <td>NaN</td>\n",
       "      <td>NaN</td>\n",
       "      <td>focus</td>\n",
       "      <td>NaN</td>\n",
       "    </tr>\n",
       "    <tr>\n",
       "      <th>3</th>\n",
       "      <td>Focus</td>\n",
       "      <td>2016.0</td>\n",
       "      <td>9450.0</td>\n",
       "      <td>Manual</td>\n",
       "      <td>14549.0</td>\n",
       "      <td>1.560</td>\n",
       "      <td>NaN</td>\n",
       "      <td>NaN</td>\n",
       "      <td>focus</td>\n",
       "      <td>NaN</td>\n",
       "    </tr>\n",
       "    <tr>\n",
       "      <th>4</th>\n",
       "      <td>Focus</td>\n",
       "      <td>2015.0</td>\n",
       "      <td>9999.0</td>\n",
       "      <td>Manual</td>\n",
       "      <td>7010.0</td>\n",
       "      <td>1.560</td>\n",
       "      <td>NaN</td>\n",
       "      <td>NaN</td>\n",
       "      <td>focus</td>\n",
       "      <td>NaN</td>\n",
       "    </tr>\n",
       "    <tr>\n",
       "      <th>...</th>\n",
       "      <td>...</td>\n",
       "      <td>...</td>\n",
       "      <td>...</td>\n",
       "      <td>...</td>\n",
       "      <td>...</td>\n",
       "      <td>...</td>\n",
       "      <td>...</td>\n",
       "      <td>...</td>\n",
       "      <td>...</td>\n",
       "      <td>...</td>\n",
       "    </tr>\n",
       "    <tr>\n",
       "      <th>9605</th>\n",
       "      <td>C Class</td>\n",
       "      <td>2017.0</td>\n",
       "      <td>14700.0</td>\n",
       "      <td>Manual</td>\n",
       "      <td>31357.0</td>\n",
       "      <td>150.000</td>\n",
       "      <td>Diesel</td>\n",
       "      <td>1.598</td>\n",
       "      <td>cclass</td>\n",
       "      <td>NaN</td>\n",
       "    </tr>\n",
       "    <tr>\n",
       "      <th>9606</th>\n",
       "      <td>C Class</td>\n",
       "      <td>2018.0</td>\n",
       "      <td>18500.0</td>\n",
       "      <td>Automatic</td>\n",
       "      <td>28248.0</td>\n",
       "      <td>150.000</td>\n",
       "      <td>Diesel</td>\n",
       "      <td>2.143</td>\n",
       "      <td>cclass</td>\n",
       "      <td>NaN</td>\n",
       "    </tr>\n",
       "    <tr>\n",
       "      <th>9607</th>\n",
       "      <td>C Class</td>\n",
       "      <td>2014.0</td>\n",
       "      <td>11900.0</td>\n",
       "      <td>Manual</td>\n",
       "      <td>48055.0</td>\n",
       "      <td>20.000</td>\n",
       "      <td>Diesel</td>\n",
       "      <td>2.143</td>\n",
       "      <td>cclass</td>\n",
       "      <td>NaN</td>\n",
       "    </tr>\n",
       "    <tr>\n",
       "      <th>9608</th>\n",
       "      <td>C Class</td>\n",
       "      <td>2014.0</td>\n",
       "      <td>11300.0</td>\n",
       "      <td>Automatic</td>\n",
       "      <td>49865.0</td>\n",
       "      <td>145.000</td>\n",
       "      <td>Diesel</td>\n",
       "      <td>2.143</td>\n",
       "      <td>cclass</td>\n",
       "      <td>NaN</td>\n",
       "    </tr>\n",
       "    <tr>\n",
       "      <th>9609</th>\n",
       "      <td>C Class</td>\n",
       "      <td>2014.0</td>\n",
       "      <td>14800.0</td>\n",
       "      <td>Automatic</td>\n",
       "      <td>55445.0</td>\n",
       "      <td>30.000</td>\n",
       "      <td>Diesel</td>\n",
       "      <td>2.143</td>\n",
       "      <td>cclass</td>\n",
       "      <td>NaN</td>\n",
       "    </tr>\n",
       "  </tbody>\n",
       "</table>\n",
       "<p>9610 rows × 10 columns</p>\n",
       "</div>"
      ],
      "text/plain": [
       "         model    year    price transmission  mileage      tax fuelType  \\\n",
       "0        Focus  2016.0   8000.0       Manual  38852.0    0.999      NaN   \n",
       "1        Focus  2019.0  13400.0       Manual  11952.0    0.999      NaN   \n",
       "2        Focus  2019.0  14600.0       Manual  22142.0    1.498      NaN   \n",
       "3        Focus  2016.0   9450.0       Manual  14549.0    1.560      NaN   \n",
       "4        Focus  2015.0   9999.0       Manual   7010.0    1.560      NaN   \n",
       "...        ...     ...      ...          ...      ...      ...      ...   \n",
       "9605   C Class  2017.0  14700.0       Manual  31357.0  150.000   Diesel   \n",
       "9606   C Class  2018.0  18500.0    Automatic  28248.0  150.000   Diesel   \n",
       "9607   C Class  2014.0  11900.0       Manual  48055.0   20.000   Diesel   \n",
       "9608   C Class  2014.0  11300.0    Automatic  49865.0  145.000   Diesel   \n",
       "9609   C Class  2014.0  14800.0    Automatic  55445.0   30.000   Diesel   \n",
       "\n",
       "      engineSize company name  mpg  \n",
       "0            NaN        focus  NaN  \n",
       "1            NaN        focus  NaN  \n",
       "2            NaN        focus  NaN  \n",
       "3            NaN        focus  NaN  \n",
       "4            NaN        focus  NaN  \n",
       "...          ...          ...  ...  \n",
       "9605       1.598       cclass  NaN  \n",
       "9606       2.143       cclass  NaN  \n",
       "9607       2.143       cclass  NaN  \n",
       "9608       2.143       cclass  NaN  \n",
       "9609       2.143       cclass  NaN  \n",
       "\n",
       "[9610 rows x 10 columns]"
      ]
     },
     "execution_count": 28,
     "metadata": {},
     "output_type": "execute_result"
    }
   ],
   "source": [
    "df_unclean"
   ]
  },
  {
   "cell_type": "code",
   "execution_count": 29,
   "id": "759d0321",
   "metadata": {
    "scrolled": true
   },
   "outputs": [
    {
     "name": "stdout",
     "output_type": "stream",
     "text": [
      "<class 'pandas.core.frame.DataFrame'>\n",
      "RangeIndex: 9610 entries, 0 to 9609\n",
      "Data columns (total 10 columns):\n",
      " #   Column        Non-Null Count  Dtype  \n",
      "---  ------        --------------  -----  \n",
      " 0   model         9455 non-null   object \n",
      " 1   year          9363 non-null   float64\n",
      " 2   price         9455 non-null   float64\n",
      " 3   transmission  9455 non-null   object \n",
      " 4   mileage       9398 non-null   float64\n",
      " 5   tax           9345 non-null   float64\n",
      " 6   fuelType      8537 non-null   object \n",
      " 7   engineSize    8531 non-null   float64\n",
      " 8   company name  9610 non-null   object \n",
      " 9   mpg           0 non-null      float64\n",
      "dtypes: float64(6), object(4)\n",
      "memory usage: 750.9+ KB\n"
     ]
    }
   ],
   "source": [
    "df_unclean.info()"
   ]
  },
  {
   "cell_type": "code",
   "execution_count": 30,
   "id": "c06e7781",
   "metadata": {},
   "outputs": [
    {
     "name": "stdout",
     "output_type": "stream",
     "text": [
      "<class 'pandas.core.frame.DataFrame'>\n",
      "RangeIndex: 108540 entries, 0 to 108539\n",
      "Data columns (total 10 columns):\n",
      " #   Column        Non-Null Count   Dtype  \n",
      "---  ------        --------------   -----  \n",
      " 0   model         108540 non-null  object \n",
      " 1   year          108540 non-null  int64  \n",
      " 2   price         108540 non-null  int64  \n",
      " 3   transmission  108540 non-null  object \n",
      " 4   mileage       108540 non-null  int64  \n",
      " 5   fuelType      108540 non-null  object \n",
      " 6   tax           99187 non-null   float64\n",
      " 7   mpg           99187 non-null   float64\n",
      " 8   engineSize    108540 non-null  float64\n",
      " 9   company name  108540 non-null  object \n",
      "dtypes: float64(3), int64(3), object(4)\n",
      "memory usage: 8.3+ MB\n"
     ]
    }
   ],
   "source": [
    "df_clean.info()"
   ]
  },
  {
   "cell_type": "markdown",
   "id": "b6c49d2a",
   "metadata": {},
   "source": [
    "> **Now df_clean and df_unclean have the same column names and data types**"
   ]
  },
  {
   "cell_type": "code",
   "execution_count": 31,
   "id": "090608f6",
   "metadata": {},
   "outputs": [
    {
     "data": {
      "text/html": [
       "<div>\n",
       "<style scoped>\n",
       "    .dataframe tbody tr th:only-of-type {\n",
       "        vertical-align: middle;\n",
       "    }\n",
       "\n",
       "    .dataframe tbody tr th {\n",
       "        vertical-align: top;\n",
       "    }\n",
       "\n",
       "    .dataframe thead th {\n",
       "        text-align: right;\n",
       "    }\n",
       "</style>\n",
       "<table border=\"1\" class=\"dataframe\">\n",
       "  <thead>\n",
       "    <tr style=\"text-align: right;\">\n",
       "      <th></th>\n",
       "      <th>model</th>\n",
       "      <th>year</th>\n",
       "      <th>price</th>\n",
       "      <th>transmission</th>\n",
       "      <th>mileage</th>\n",
       "      <th>fuelType</th>\n",
       "      <th>tax</th>\n",
       "      <th>mpg</th>\n",
       "      <th>engineSize</th>\n",
       "      <th>company name</th>\n",
       "    </tr>\n",
       "  </thead>\n",
       "  <tbody>\n",
       "    <tr>\n",
       "      <th>0</th>\n",
       "      <td>A1</td>\n",
       "      <td>2017.0</td>\n",
       "      <td>12500.0</td>\n",
       "      <td>Manual</td>\n",
       "      <td>15735.0</td>\n",
       "      <td>Petrol</td>\n",
       "      <td>150.0</td>\n",
       "      <td>55.4</td>\n",
       "      <td>1.4</td>\n",
       "      <td>audi</td>\n",
       "    </tr>\n",
       "    <tr>\n",
       "      <th>1</th>\n",
       "      <td>A6</td>\n",
       "      <td>2016.0</td>\n",
       "      <td>16500.0</td>\n",
       "      <td>Automatic</td>\n",
       "      <td>36203.0</td>\n",
       "      <td>Diesel</td>\n",
       "      <td>20.0</td>\n",
       "      <td>64.2</td>\n",
       "      <td>2.0</td>\n",
       "      <td>audi</td>\n",
       "    </tr>\n",
       "    <tr>\n",
       "      <th>2</th>\n",
       "      <td>A1</td>\n",
       "      <td>2016.0</td>\n",
       "      <td>11000.0</td>\n",
       "      <td>Manual</td>\n",
       "      <td>29946.0</td>\n",
       "      <td>Petrol</td>\n",
       "      <td>30.0</td>\n",
       "      <td>55.4</td>\n",
       "      <td>1.4</td>\n",
       "      <td>audi</td>\n",
       "    </tr>\n",
       "    <tr>\n",
       "      <th>3</th>\n",
       "      <td>A4</td>\n",
       "      <td>2017.0</td>\n",
       "      <td>16800.0</td>\n",
       "      <td>Automatic</td>\n",
       "      <td>25952.0</td>\n",
       "      <td>Diesel</td>\n",
       "      <td>145.0</td>\n",
       "      <td>67.3</td>\n",
       "      <td>2.0</td>\n",
       "      <td>audi</td>\n",
       "    </tr>\n",
       "    <tr>\n",
       "      <th>4</th>\n",
       "      <td>A3</td>\n",
       "      <td>2019.0</td>\n",
       "      <td>17300.0</td>\n",
       "      <td>Manual</td>\n",
       "      <td>1998.0</td>\n",
       "      <td>Petrol</td>\n",
       "      <td>145.0</td>\n",
       "      <td>49.6</td>\n",
       "      <td>1.0</td>\n",
       "      <td>audi</td>\n",
       "    </tr>\n",
       "  </tbody>\n",
       "</table>\n",
       "</div>"
      ],
      "text/plain": [
       "  model    year    price transmission  mileage fuelType    tax   mpg  \\\n",
       "0    A1  2017.0  12500.0       Manual  15735.0   Petrol  150.0  55.4   \n",
       "1    A6  2016.0  16500.0    Automatic  36203.0   Diesel   20.0  64.2   \n",
       "2    A1  2016.0  11000.0       Manual  29946.0   Petrol   30.0  55.4   \n",
       "3    A4  2017.0  16800.0    Automatic  25952.0   Diesel  145.0  67.3   \n",
       "4    A3  2019.0  17300.0       Manual   1998.0   Petrol  145.0  49.6   \n",
       "\n",
       "   engineSize company name  \n",
       "0         1.4         audi  \n",
       "1         2.0         audi  \n",
       "2         1.4         audi  \n",
       "3         2.0         audi  \n",
       "4         1.0         audi  "
      ]
     },
     "execution_count": 31,
     "metadata": {},
     "output_type": "execute_result"
    }
   ],
   "source": [
    "# Concatenating DataFrames\n",
    "df = pd.concat([df_clean, df_unclean], axis=0, ignore_index=True)  \n",
    "df.head()"
   ]
  },
  {
   "cell_type": "code",
   "execution_count": 32,
   "id": "6798be94",
   "metadata": {},
   "outputs": [
    {
     "data": {
      "text/plain": [
       "(118150, 10)"
      ]
     },
     "execution_count": 32,
     "metadata": {},
     "output_type": "execute_result"
    }
   ],
   "source": [
    "df.shape"
   ]
  },
  {
   "cell_type": "code",
   "execution_count": 33,
   "id": "37fcbb1a",
   "metadata": {},
   "outputs": [
    {
     "data": {
      "text/plain": [
       "array([2017., 2016., 2019., 2015., 2014., 2018., 2013., 2020., 2004.,\n",
       "       2009., 2012., 2010., 2007., 2011., 2008., 2003., 2005., 2002.,\n",
       "       2006., 1998., 1997., 2001., 2000., 1999., 1996., 1991., 1995.,\n",
       "       2060., 1970.,   nan])"
      ]
     },
     "execution_count": 33,
     "metadata": {},
     "output_type": "execute_result"
    }
   ],
   "source": [
    "df.year.unique()"
   ]
  },
  {
   "cell_type": "markdown",
   "id": "81f854bb",
   "metadata": {},
   "source": [
    "## Missing Values"
   ]
  },
  {
   "cell_type": "code",
   "execution_count": 34,
   "id": "46538a46",
   "metadata": {},
   "outputs": [
    {
     "data": {
      "text/plain": [
       "model             155\n",
       "year              247\n",
       "price             155\n",
       "transmission      155\n",
       "mileage           212\n",
       "fuelType         1073\n",
       "tax              9618\n",
       "mpg             18963\n",
       "engineSize       1079\n",
       "company name        0\n",
       "dtype: int64"
      ]
     },
     "execution_count": 34,
     "metadata": {},
     "output_type": "execute_result"
    }
   ],
   "source": [
    "df.isnull().sum()"
   ]
  },
  {
   "cell_type": "code",
   "execution_count": 35,
   "id": "aeb29323",
   "metadata": {},
   "outputs": [],
   "source": [
    "df['mileage'].fillna(df['mileage'].mean(), inplace = True)\n",
    "df['tax'].fillna(df['tax'].mean(), inplace = True)\n",
    "df['mpg'].fillna(df['mpg'].mean(), inplace = True)\n",
    "df['model'].fillna(df['model'].mode()[0], inplace = True)\n",
    "df['transmission'].fillna(df['transmission'].mode()[0], inplace = True)\n",
    "df['fuelType'].fillna(df['fuelType'].mode()[0], inplace = True)\n",
    "df['year'].fillna(df['year'].mode()[0], inplace = True)"
   ]
  },
  {
   "cell_type": "code",
   "execution_count": 36,
   "id": "370c8ddb",
   "metadata": {},
   "outputs": [],
   "source": [
    "from sklearn.impute import KNNImputer\n",
    "imputer = KNNImputer()\n",
    "\n",
    "df['price'] = imputer.fit_transform(df[['price']])\n",
    "df['engineSize'] = imputer.fit_transform(df[['engineSize']])"
   ]
  },
  {
   "cell_type": "code",
   "execution_count": 37,
   "id": "33c58872",
   "metadata": {},
   "outputs": [
    {
     "data": {
      "text/plain": [
       "model           0\n",
       "year            0\n",
       "price           0\n",
       "transmission    0\n",
       "mileage         0\n",
       "fuelType        0\n",
       "tax             0\n",
       "mpg             0\n",
       "engineSize      0\n",
       "company name    0\n",
       "dtype: int64"
      ]
     },
     "execution_count": 37,
     "metadata": {},
     "output_type": "execute_result"
    }
   ],
   "source": [
    "df.isnull().sum()"
   ]
  },
  {
   "cell_type": "markdown",
   "id": "6b559492",
   "metadata": {},
   "source": [
    "# Exploratory Data Analysis  (EDA)\n",
    "\n",
    "## Data cleaning"
   ]
  },
  {
   "cell_type": "code",
   "execution_count": 38,
   "id": "8968073f",
   "metadata": {},
   "outputs": [
    {
     "data": {
      "text/html": [
       "<div>\n",
       "<style scoped>\n",
       "    .dataframe tbody tr th:only-of-type {\n",
       "        vertical-align: middle;\n",
       "    }\n",
       "\n",
       "    .dataframe tbody tr th {\n",
       "        vertical-align: top;\n",
       "    }\n",
       "\n",
       "    .dataframe thead th {\n",
       "        text-align: right;\n",
       "    }\n",
       "</style>\n",
       "<table border=\"1\" class=\"dataframe\">\n",
       "  <thead>\n",
       "    <tr style=\"text-align: right;\">\n",
       "      <th></th>\n",
       "      <th>year</th>\n",
       "      <th>price</th>\n",
       "      <th>mileage</th>\n",
       "      <th>tax</th>\n",
       "      <th>mpg</th>\n",
       "      <th>engineSize</th>\n",
       "    </tr>\n",
       "  </thead>\n",
       "  <tbody>\n",
       "    <tr>\n",
       "      <th>count</th>\n",
       "      <td>118150.000000</td>\n",
       "      <td>118150.000000</td>\n",
       "      <td>118150.000000</td>\n",
       "      <td>118150.00000</td>\n",
       "      <td>118150.000000</td>\n",
       "      <td>118150.000000</td>\n",
       "    </tr>\n",
       "    <tr>\n",
       "      <th>mean</th>\n",
       "      <td>2017.110410</td>\n",
       "      <td>16960.046561</td>\n",
       "      <td>22967.101460</td>\n",
       "      <td>119.96505</td>\n",
       "      <td>55.166825</td>\n",
       "      <td>1.661791</td>\n",
       "    </tr>\n",
       "    <tr>\n",
       "      <th>std</th>\n",
       "      <td>2.135371</td>\n",
       "      <td>9653.502909</td>\n",
       "      <td>21128.287743</td>\n",
       "      <td>76.43951</td>\n",
       "      <td>14.786791</td>\n",
       "      <td>0.554135</td>\n",
       "    </tr>\n",
       "    <tr>\n",
       "      <th>min</th>\n",
       "      <td>1970.000000</td>\n",
       "      <td>450.000000</td>\n",
       "      <td>1.000000</td>\n",
       "      <td>0.00000</td>\n",
       "      <td>0.300000</td>\n",
       "      <td>0.000000</td>\n",
       "    </tr>\n",
       "    <tr>\n",
       "      <th>25%</th>\n",
       "      <td>2016.000000</td>\n",
       "      <td>10395.000000</td>\n",
       "      <td>7529.000000</td>\n",
       "      <td>119.96505</td>\n",
       "      <td>47.900000</td>\n",
       "      <td>1.200000</td>\n",
       "    </tr>\n",
       "    <tr>\n",
       "      <th>50%</th>\n",
       "      <td>2017.000000</td>\n",
       "      <td>14980.000000</td>\n",
       "      <td>17120.000000</td>\n",
       "      <td>145.00000</td>\n",
       "      <td>55.166825</td>\n",
       "      <td>1.600000</td>\n",
       "    </tr>\n",
       "    <tr>\n",
       "      <th>75%</th>\n",
       "      <td>2019.000000</td>\n",
       "      <td>20950.000000</td>\n",
       "      <td>32082.000000</td>\n",
       "      <td>145.00000</td>\n",
       "      <td>60.100000</td>\n",
       "      <td>2.000000</td>\n",
       "    </tr>\n",
       "    <tr>\n",
       "      <th>max</th>\n",
       "      <td>2060.000000</td>\n",
       "      <td>159999.000000</td>\n",
       "      <td>323000.000000</td>\n",
       "      <td>5400.00000</td>\n",
       "      <td>470.800000</td>\n",
       "      <td>6.600000</td>\n",
       "    </tr>\n",
       "  </tbody>\n",
       "</table>\n",
       "</div>"
      ],
      "text/plain": [
       "                year          price        mileage           tax  \\\n",
       "count  118150.000000  118150.000000  118150.000000  118150.00000   \n",
       "mean     2017.110410   16960.046561   22967.101460     119.96505   \n",
       "std         2.135371    9653.502909   21128.287743      76.43951   \n",
       "min      1970.000000     450.000000       1.000000       0.00000   \n",
       "25%      2016.000000   10395.000000    7529.000000     119.96505   \n",
       "50%      2017.000000   14980.000000   17120.000000     145.00000   \n",
       "75%      2019.000000   20950.000000   32082.000000     145.00000   \n",
       "max      2060.000000  159999.000000  323000.000000    5400.00000   \n",
       "\n",
       "                 mpg     engineSize  \n",
       "count  118150.000000  118150.000000  \n",
       "mean       55.166825       1.661791  \n",
       "std        14.786791       0.554135  \n",
       "min         0.300000       0.000000  \n",
       "25%        47.900000       1.200000  \n",
       "50%        55.166825       1.600000  \n",
       "75%        60.100000       2.000000  \n",
       "max       470.800000       6.600000  "
      ]
     },
     "execution_count": 38,
     "metadata": {},
     "output_type": "execute_result"
    }
   ],
   "source": [
    "df.describe()"
   ]
  },
  {
   "cell_type": "code",
   "execution_count": 39,
   "id": "b49904ad",
   "metadata": {},
   "outputs": [
    {
     "data": {
      "text/html": [
       "<div>\n",
       "<style scoped>\n",
       "    .dataframe tbody tr th:only-of-type {\n",
       "        vertical-align: middle;\n",
       "    }\n",
       "\n",
       "    .dataframe tbody tr th {\n",
       "        vertical-align: top;\n",
       "    }\n",
       "\n",
       "    .dataframe thead th {\n",
       "        text-align: right;\n",
       "    }\n",
       "</style>\n",
       "<table border=\"1\" class=\"dataframe\">\n",
       "  <thead>\n",
       "    <tr style=\"text-align: right;\">\n",
       "      <th></th>\n",
       "      <th>model</th>\n",
       "      <th>year</th>\n",
       "      <th>price</th>\n",
       "      <th>transmission</th>\n",
       "      <th>mileage</th>\n",
       "      <th>fuelType</th>\n",
       "      <th>tax</th>\n",
       "      <th>mpg</th>\n",
       "      <th>engineSize</th>\n",
       "      <th>company name</th>\n",
       "    </tr>\n",
       "  </thead>\n",
       "  <tbody>\n",
       "    <tr>\n",
       "      <th>48528</th>\n",
       "      <td>Fiesta</td>\n",
       "      <td>2060.0</td>\n",
       "      <td>6495.0</td>\n",
       "      <td>Automatic</td>\n",
       "      <td>54807.0</td>\n",
       "      <td>Petrol</td>\n",
       "      <td>205.0</td>\n",
       "      <td>42.8</td>\n",
       "      <td>1.4</td>\n",
       "      <td>ford</td>\n",
       "    </tr>\n",
       "  </tbody>\n",
       "</table>\n",
       "</div>"
      ],
      "text/plain": [
       "         model    year   price transmission  mileage fuelType    tax   mpg  \\\n",
       "48528   Fiesta  2060.0  6495.0    Automatic  54807.0   Petrol  205.0  42.8   \n",
       "\n",
       "       engineSize company name  \n",
       "48528         1.4         ford  "
      ]
     },
     "execution_count": 39,
     "metadata": {},
     "output_type": "execute_result"
    }
   ],
   "source": [
    "df[df['year']==2060]"
   ]
  },
  {
   "cell_type": "code",
   "execution_count": 40,
   "id": "721e82f8",
   "metadata": {},
   "outputs": [],
   "source": [
    "df = df.drop(labels=48528, axis=0)"
   ]
  },
  {
   "cell_type": "code",
   "execution_count": 41,
   "id": "ff58ca49",
   "metadata": {},
   "outputs": [
    {
     "data": {
      "text/plain": [
       "<AxesSubplot:>"
      ]
     },
     "execution_count": 41,
     "metadata": {},
     "output_type": "execute_result"
    },
    {
     "data": {
      "image/png": "[encoded data removed]",
      "text/plain": [
       "<Figure size 1008x720 with 1 Axes>"
      ]
     },
     "metadata": {},
     "output_type": "display_data"
    }
   ],
   "source": [
    "sns.boxplot(data=df)"
   ]
  },
  {
   "cell_type": "code",
   "execution_count": 42,
   "id": "ab28c037",
   "metadata": {},
   "outputs": [
    {
     "data": {
      "text/plain": [
       "<AxesSubplot:xlabel='mileage'>"
      ]
     },
     "execution_count": 42,
     "metadata": {},
     "output_type": "execute_result"
    },
    {
     "data": {
      "image/png": "[encoded data removed]",
      "text/plain": [
       "<Figure size 1008x720 with 1 Axes>"
      ]
     },
     "metadata": {},
     "output_type": "display_data"
    }
   ],
   "source": [
    "sns.boxplot(data=df, x='mileage')"
   ]
  },
  {
   "cell_type": "code",
   "execution_count": 43,
   "id": "88853b8d",
   "metadata": {},
   "outputs": [
    {
     "data": {
      "text/plain": [
       "12696"
      ]
     },
     "execution_count": 43,
     "metadata": {},
     "output_type": "execute_result"
    }
   ],
   "source": [
    "# Detect all outliers\n",
    "\n",
    "from datasist.structdata import detect_outliers\n",
    "out_idx = detect_outliers(df, 0, ['price', 'mileage','year','engineSize','mpg'])\n",
    "\n",
    "len(out_idx)"
   ]
  },
  {
   "cell_type": "code",
   "execution_count": 44,
   "id": "a1a996f2",
   "metadata": {
    "scrolled": true
   },
   "outputs": [
    {
     "data": {
      "text/html": [
       "<div>\n",
       "<style scoped>\n",
       "    .dataframe tbody tr th:only-of-type {\n",
       "        vertical-align: middle;\n",
       "    }\n",
       "\n",
       "    .dataframe tbody tr th {\n",
       "        vertical-align: top;\n",
       "    }\n",
       "\n",
       "    .dataframe thead th {\n",
       "        text-align: right;\n",
       "    }\n",
       "</style>\n",
       "<table border=\"1\" class=\"dataframe\">\n",
       "  <thead>\n",
       "    <tr style=\"text-align: right;\">\n",
       "      <th></th>\n",
       "      <th>model</th>\n",
       "      <th>year</th>\n",
       "      <th>price</th>\n",
       "      <th>transmission</th>\n",
       "      <th>mileage</th>\n",
       "      <th>fuelType</th>\n",
       "      <th>tax</th>\n",
       "      <th>mpg</th>\n",
       "      <th>engineSize</th>\n",
       "      <th>company name</th>\n",
       "    </tr>\n",
       "  </thead>\n",
       "  <tbody>\n",
       "    <tr>\n",
       "      <th>0</th>\n",
       "      <td>A1</td>\n",
       "      <td>2017.0</td>\n",
       "      <td>12500.0</td>\n",
       "      <td>Manual</td>\n",
       "      <td>15735.0</td>\n",
       "      <td>Petrol</td>\n",
       "      <td>150.0</td>\n",
       "      <td>55.4</td>\n",
       "      <td>1.4</td>\n",
       "      <td>audi</td>\n",
       "    </tr>\n",
       "    <tr>\n",
       "      <th>1</th>\n",
       "      <td>A6</td>\n",
       "      <td>2016.0</td>\n",
       "      <td>16500.0</td>\n",
       "      <td>Automatic</td>\n",
       "      <td>36203.0</td>\n",
       "      <td>Diesel</td>\n",
       "      <td>20.0</td>\n",
       "      <td>64.2</td>\n",
       "      <td>2.0</td>\n",
       "      <td>audi</td>\n",
       "    </tr>\n",
       "    <tr>\n",
       "      <th>2</th>\n",
       "      <td>A1</td>\n",
       "      <td>2016.0</td>\n",
       "      <td>11000.0</td>\n",
       "      <td>Manual</td>\n",
       "      <td>29946.0</td>\n",
       "      <td>Petrol</td>\n",
       "      <td>30.0</td>\n",
       "      <td>55.4</td>\n",
       "      <td>1.4</td>\n",
       "      <td>audi</td>\n",
       "    </tr>\n",
       "    <tr>\n",
       "      <th>3</th>\n",
       "      <td>A4</td>\n",
       "      <td>2017.0</td>\n",
       "      <td>16800.0</td>\n",
       "      <td>Automatic</td>\n",
       "      <td>25952.0</td>\n",
       "      <td>Diesel</td>\n",
       "      <td>145.0</td>\n",
       "      <td>67.3</td>\n",
       "      <td>2.0</td>\n",
       "      <td>audi</td>\n",
       "    </tr>\n",
       "    <tr>\n",
       "      <th>4</th>\n",
       "      <td>A3</td>\n",
       "      <td>2019.0</td>\n",
       "      <td>17300.0</td>\n",
       "      <td>Manual</td>\n",
       "      <td>1998.0</td>\n",
       "      <td>Petrol</td>\n",
       "      <td>145.0</td>\n",
       "      <td>49.6</td>\n",
       "      <td>1.0</td>\n",
       "      <td>audi</td>\n",
       "    </tr>\n",
       "  </tbody>\n",
       "</table>\n",
       "</div>"
      ],
      "text/plain": [
       "  model    year    price transmission  mileage fuelType    tax   mpg  \\\n",
       "0    A1  2017.0  12500.0       Manual  15735.0   Petrol  150.0  55.4   \n",
       "1    A6  2016.0  16500.0    Automatic  36203.0   Diesel   20.0  64.2   \n",
       "2    A1  2016.0  11000.0       Manual  29946.0   Petrol   30.0  55.4   \n",
       "3    A4  2017.0  16800.0    Automatic  25952.0   Diesel  145.0  67.3   \n",
       "4    A3  2019.0  17300.0       Manual   1998.0   Petrol  145.0  49.6   \n",
       "\n",
       "   engineSize company name  \n",
       "0         1.4         audi  \n",
       "1         2.0         audi  \n",
       "2         1.4         audi  \n",
       "3         2.0         audi  \n",
       "4         1.0         audi  "
      ]
     },
     "execution_count": 44,
     "metadata": {},
     "output_type": "execute_result"
    }
   ],
   "source": [
    "# Drop outliers\n",
    "df.drop(index = out_idx, inplace=True)\n",
    "df.head()"
   ]
  },
  {
   "cell_type": "code",
   "execution_count": 45,
   "id": "6fcef09d",
   "metadata": {},
   "outputs": [
    {
     "data": {
      "text/plain": [
       "array([' A1', ' A6', ' A4', ' A3', ' Q3', ' Q5', ' A5', ' S4', ' Q2',\n",
       "       ' A7', ' TT', ' Q7', ' A8', ' RS3', ' SQ5', ' S3', ' S5',\n",
       "       ' 5 Series', ' 6 Series', ' 1 Series', ' 7 Series', ' 2 Series',\n",
       "       ' 4 Series', ' X3', ' 3 Series', ' X4', ' X1', ' M4', ' X2', ' X6',\n",
       "       ' X5', ' Z4', ' M2', ' M3', ' C Class', ' Focus', ' Fiesta',\n",
       "       ' Puma', ' Kuga', ' EcoSport', ' C-MAX', ' Mondeo', ' Ka+',\n",
       "       ' Tourneo Custom', ' S-MAX', ' B-MAX', ' Edge', ' Tourneo Connect',\n",
       "       ' Grand C-MAX', ' KA', ' Galaxy', ' Grand Tourneo Connect',\n",
       "       ' Mustang', ' Transit Tourneo', ' I20', ' Tucson', ' I10', ' IX35',\n",
       "       ' I30', ' I40', ' Kona', ' Veloster', ' I800', ' IX20',\n",
       "       ' Santa Fe', ' Ioniq', ' S Class', ' GLE Class', ' GLA Class',\n",
       "       ' A Class', ' B Class', ' E Class', ' GL Class', ' SL CLASS',\n",
       "       ' CLS Class', ' GLC Class', ' SLK', ' V Class', ' CLA Class',\n",
       "       ' CL Class', ' M Class', ' GLB Class', ' X-CLASS', ' GLS Class',\n",
       "       '180', '220', '200', ' Octavia', ' Citigo', ' Yeti Outdoor',\n",
       "       ' Superb', ' Kodiaq', ' Rapid', ' Karoq', ' Fabia', ' Yeti',\n",
       "       ' Scala', ' Roomster', ' Kamiq', ' GT86', ' Corolla', ' RAV4',\n",
       "       ' Yaris', ' Auris', ' Aygo', ' C-HR', ' Prius', ' Avensis',\n",
       "       ' Verso', ' Hilux', ' PROACE VERSO', ' Land Cruiser', ' Camry',\n",
       "       ' Verso-S', ' IQ', ' Urban Cruiser', ' Corsa', ' Astra', ' Viva',\n",
       "       ' Mokka', ' Mokka X', ' Crossland X', ' Zafira', ' Meriva',\n",
       "       ' Zafira Tourer', ' Adam', ' Grandland X', ' Antara', ' Insignia',\n",
       "       ' GTC', ' Combo Life', ' Vivaro', ' Cascada', ' Kadjar', ' Agila',\n",
       "       ' T-Roc', ' Golf', ' Passat', ' T-Cross', ' Polo', ' Tiguan',\n",
       "       ' Sharan', ' Up', ' Scirocco', ' Beetle', ' Caddy Maxi Life',\n",
       "       ' Caravelle', ' Touareg', ' Arteon', ' Touran', ' Golf SV',\n",
       "       ' Amarok', ' Tiguan Allspace', ' Shuttle', ' Jetta', ' CC',\n",
       "       ' Caddy Life', ' Caddy', ' Caddy Maxi', ' Eos'], dtype=object)"
      ]
     },
     "execution_count": 45,
     "metadata": {},
     "output_type": "execute_result"
    }
   ],
   "source": [
    "#there is a space in front of each model name.\n",
    "df['model'].unique()"
   ]
  },
  {
   "cell_type": "code",
   "execution_count": 46,
   "id": "7dcadd80",
   "metadata": {},
   "outputs": [],
   "source": [
    "#cleaning the model names\n",
    "df['model'] = [i.strip()   for i in df['model']]"
   ]
  },
  {
   "cell_type": "code",
   "execution_count": 47,
   "id": "ba1904ce",
   "metadata": {},
   "outputs": [
    {
     "data": {
      "text/plain": [
       "array(['A1', 'A6', 'A4', 'A3', 'Q3', 'Q5', 'A5', 'S4', 'Q2', 'A7'],\n",
       "      dtype=object)"
      ]
     },
     "execution_count": 47,
     "metadata": {},
     "output_type": "execute_result"
    }
   ],
   "source": [
    "df['model'].unique()[:10]"
   ]
  },
  {
   "cell_type": "code",
   "execution_count": 48,
   "id": "e2156060",
   "metadata": {},
   "outputs": [
    {
     "data": {
      "text/plain": [
       "array(['Manual', 'Automatic', 'Semi-Auto', 'Other'], dtype=object)"
      ]
     },
     "execution_count": 48,
     "metadata": {},
     "output_type": "execute_result"
    }
   ],
   "source": [
    "df['transmission'].unique()"
   ]
  },
  {
   "cell_type": "code",
   "execution_count": 49,
   "id": "ff327a49",
   "metadata": {},
   "outputs": [
    {
     "data": {
      "text/plain": [
       "array(['Petrol', 'Diesel', 'Hybrid', 'Other', 'Electric'], dtype=object)"
      ]
     },
     "execution_count": 49,
     "metadata": {},
     "output_type": "execute_result"
    }
   ],
   "source": [
    "df['fuelType'].unique()"
   ]
  },
  {
   "cell_type": "code",
   "execution_count": 50,
   "id": "3d8af93c",
   "metadata": {},
   "outputs": [
    {
     "data": {
      "text/plain": [
       "array(['audi', 'bmw', 'cclass', 'focus', 'ford', 'hyundi', 'merc',\n",
       "       'skoda', 'toyota', 'vauxhall', 'vw'], dtype=object)"
      ]
     },
     "execution_count": 50,
     "metadata": {},
     "output_type": "execute_result"
    }
   ],
   "source": [
    "df['company name'].unique()"
   ]
  },
  {
   "cell_type": "code",
   "execution_count": 51,
   "id": "d9961b90",
   "metadata": {},
   "outputs": [
    {
     "data": {
      "text/plain": [
       "array([2017., 2016., 2019., 2015., 2014., 2018., 2013., 2020., 2012.])"
      ]
     },
     "execution_count": 51,
     "metadata": {},
     "output_type": "execute_result"
    }
   ],
   "source": [
    "df['year'].unique()"
   ]
  },
  {
   "cell_type": "code",
   "execution_count": 52,
   "id": "49197f4b",
   "metadata": {},
   "outputs": [],
   "source": [
    "# converting year column to the suitable data type 'integer'\n",
    "df['year'] = df['year'].convert_dtypes() "
   ]
  },
  {
   "cell_type": "code",
   "execution_count": 53,
   "id": "0f8d53ba",
   "metadata": {},
   "outputs": [
    {
     "data": {
      "text/plain": [
       "Int64Dtype()"
      ]
     },
     "execution_count": 53,
     "metadata": {},
     "output_type": "execute_result"
    }
   ],
   "source": [
    "df['year'].dtype"
   ]
  },
  {
   "cell_type": "markdown",
   "id": "eace7f09",
   "metadata": {},
   "source": [
    "## Visualization"
   ]
  },
  {
   "cell_type": "code",
   "execution_count": 54,
   "id": "b3dd3510",
   "metadata": {},
   "outputs": [
    {
     "data": {
      "image/png": "[encoded data removed]",
      "text/plain": [
       "<Figure size 1008x720 with 6 Axes>"
      ]
     },
     "metadata": {},
     "output_type": "display_data"
    }
   ],
   "source": [
    "fig, axes = plt.subplots(nrows=3, ncols=2)\n",
    "\n",
    "sns.histplot(data=df, x='year',ax=axes[0,0])\n",
    "sns.histplot(data=df, x='tax', ax=axes[0,1])\n",
    "sns.histplot(data=df, x='mpg', ax=axes[1,0])\n",
    "sns.histplot(data=df, x='engineSize', ax=axes[1,1])\n",
    "sns.histplot(data=df,  x='price', ax=axes[2,0])\n",
    "sns.histplot(data=df,  x='mileage', ax=axes[2,1])\n",
    "\n",
    "plt.tight_layout()\n"
   ]
  },
  {
   "cell_type": "code",
   "execution_count": 55,
   "id": "18d0f311",
   "metadata": {},
   "outputs": [
    {
     "data": {
      "text/plain": [
       "[Text(0, 0, '2012'),\n",
       " Text(1, 0, '2013'),\n",
       " Text(2, 0, '2014'),\n",
       " Text(3, 0, '2015'),\n",
       " Text(4, 0, '2016'),\n",
       " Text(5, 0, '2017'),\n",
       " Text(6, 0, '2018'),\n",
       " Text(7, 0, '2019'),\n",
       " Text(8, 0, '2020')]"
      ]
     },
     "execution_count": 55,
     "metadata": {},
     "output_type": "execute_result"
    },
    {
     "data": {
      "image/png": "[encoded data removed]",
      "text/plain": [
       "<Figure size 1008x720 with 1 Axes>"
      ]
     },
     "metadata": {},
     "output_type": "display_data"
    }
   ],
   "source": [
    "ax=sns.countplot(data=df, x='year')\n",
    "ax.set_xticklabels(ax.get_xticklabels(),rotation = 45)"
   ]
  },
  {
   "cell_type": "code",
   "execution_count": 56,
   "id": "dc968d35",
   "metadata": {},
   "outputs": [
    {
     "data": {
      "text/plain": [
       "<AxesSubplot:xlabel='company name', ylabel='count'>"
      ]
     },
     "execution_count": 56,
     "metadata": {},
     "output_type": "execute_result"
    },
    {
     "data": {
      "image/png": "[encoded data removed]",
      "text/plain": [
       "<Figure size 1008x720 with 1 Axes>"
      ]
     },
     "metadata": {},
     "output_type": "display_data"
    }
   ],
   "source": [
    "sns.countplot(data=df, x='company name')"
   ]
  },
  {
   "cell_type": "code",
   "execution_count": 57,
   "id": "7d8def58",
   "metadata": {},
   "outputs": [
    {
     "data": {
      "text/plain": [
       "<AxesSubplot:xlabel='fuelType', ylabel='count'>"
      ]
     },
     "execution_count": 57,
     "metadata": {},
     "output_type": "execute_result"
    },
    {
     "data": {
      "image/png": "[encoded data removed]",
      "text/plain": [
       "<Figure size 1008x720 with 1 Axes>"
      ]
     },
     "metadata": {},
     "output_type": "display_data"
    }
   ],
   "source": [
    "sns.countplot(data=df, x='fuelType')"
   ]
  },
  {
   "cell_type": "code",
   "execution_count": 58,
   "id": "6c611a2f",
   "metadata": {},
   "outputs": [
    {
     "data": {
      "text/plain": [
       "<AxesSubplot:xlabel='company name', ylabel='count'>"
      ]
     },
     "execution_count": 58,
     "metadata": {},
     "output_type": "execute_result"
    },
    {
     "data": {
      "image/png": "[encoded data removed]",
      "text/plain": [
       "<Figure size 1008x720 with 1 Axes>"
      ]
     },
     "metadata": {},
     "output_type": "display_data"
    }
   ],
   "source": [
    "sns.countplot(data=df, x='company name', hue='fuelType')"
   ]
  },
  {
   "cell_type": "code",
   "execution_count": 59,
   "id": "6122065f",
   "metadata": {},
   "outputs": [
    {
     "data": {
      "text/plain": [
       "<AxesSubplot:xlabel='company name', ylabel='count'>"
      ]
     },
     "execution_count": 59,
     "metadata": {},
     "output_type": "execute_result"
    },
    {
     "data": {
      "image/png": "[encoded data removed]",
      "text/plain": [
       "<Figure size 1008x720 with 1 Axes>"
      ]
     },
     "metadata": {},
     "output_type": "display_data"
    }
   ],
   "source": [
    "HEO=['Other','Hybrid', 'Electric']\n",
    "sns.countplot(data=df.loc[df['fuelType'].isin(HEO)], x='company name', hue='fuelType')\n"
   ]
  },
  {
   "cell_type": "code",
   "execution_count": 60,
   "id": "0af39b9a",
   "metadata": {},
   "outputs": [
    {
     "data": {
      "text/plain": [
       "<AxesSubplot:xlabel='company name', ylabel='count'>"
      ]
     },
     "execution_count": 60,
     "metadata": {},
     "output_type": "execute_result"
    },
    {
     "data": {
      "image/png": "[encoded data removed]",
      "text/plain": [
       "<Figure size 1008x720 with 1 Axes>"
      ]
     },
     "metadata": {},
     "output_type": "display_data"
    }
   ],
   "source": [
    "EO=['Other', 'Electric']\n",
    "sns.countplot(data=df.loc[df['fuelType'].isin(EO)], x='company name', hue='fuelType')\n"
   ]
  },
  {
   "cell_type": "code",
   "execution_count": 61,
   "id": "897a6fb8",
   "metadata": {},
   "outputs": [
    {
     "data": {
      "text/html": [
       "<div>\n",
       "<style scoped>\n",
       "    .dataframe tbody tr th:only-of-type {\n",
       "        vertical-align: middle;\n",
       "    }\n",
       "\n",
       "    .dataframe tbody tr th {\n",
       "        vertical-align: top;\n",
       "    }\n",
       "\n",
       "    .dataframe thead th {\n",
       "        text-align: right;\n",
       "    }\n",
       "</style>\n",
       "<table border=\"1\" class=\"dataframe\">\n",
       "  <thead>\n",
       "    <tr style=\"text-align: right;\">\n",
       "      <th></th>\n",
       "      <th>model</th>\n",
       "      <th>year</th>\n",
       "      <th>price</th>\n",
       "      <th>transmission</th>\n",
       "      <th>mileage</th>\n",
       "      <th>fuelType</th>\n",
       "      <th>tax</th>\n",
       "      <th>mpg</th>\n",
       "      <th>engineSize</th>\n",
       "      <th>company name</th>\n",
       "    </tr>\n",
       "  </thead>\n",
       "  <tbody>\n",
       "    <tr>\n",
       "      <th>37187</th>\n",
       "      <td>Mondeo</td>\n",
       "      <td>2016</td>\n",
       "      <td>15975.0</td>\n",
       "      <td>Automatic</td>\n",
       "      <td>9396.0</td>\n",
       "      <td>Electric</td>\n",
       "      <td>0.0</td>\n",
       "      <td>67.3</td>\n",
       "      <td>2.0</td>\n",
       "      <td>ford</td>\n",
       "    </tr>\n",
       "    <tr>\n",
       "      <th>42761</th>\n",
       "      <td>Mondeo</td>\n",
       "      <td>2016</td>\n",
       "      <td>15500.0</td>\n",
       "      <td>Automatic</td>\n",
       "      <td>24531.0</td>\n",
       "      <td>Electric</td>\n",
       "      <td>0.0</td>\n",
       "      <td>67.3</td>\n",
       "      <td>2.0</td>\n",
       "      <td>ford</td>\n",
       "    </tr>\n",
       "  </tbody>\n",
       "</table>\n",
       "</div>"
      ],
      "text/plain": [
       "        model  year    price transmission  mileage  fuelType  tax   mpg  \\\n",
       "37187  Mondeo  2016  15975.0    Automatic   9396.0  Electric  0.0  67.3   \n",
       "42761  Mondeo  2016  15500.0    Automatic  24531.0  Electric  0.0  67.3   \n",
       "\n",
       "       engineSize company name  \n",
       "37187         2.0         ford  \n",
       "42761         2.0         ford  "
      ]
     },
     "execution_count": 61,
     "metadata": {},
     "output_type": "execute_result"
    }
   ],
   "source": [
    "df[df['fuelType']=='Electric'] #only 2 rows are electric so its outlier so i can remove it"
   ]
  },
  {
   "cell_type": "code",
   "execution_count": 62,
   "id": "7f8131b9",
   "metadata": {},
   "outputs": [],
   "source": [
    "df.drop(df[df['fuelType']=='Electric'].index ,inplace =True)"
   ]
  },
  {
   "cell_type": "code",
   "execution_count": 63,
   "id": "aea66344",
   "metadata": {},
   "outputs": [
    {
     "data": {
      "text/plain": [
       "(191, 10)"
      ]
     },
     "execution_count": 63,
     "metadata": {},
     "output_type": "execute_result"
    }
   ],
   "source": [
    "df[df['fuelType']=='Other'].shape #only 190 rows are electric so its outlier so i can remove it"
   ]
  },
  {
   "cell_type": "code",
   "execution_count": 64,
   "id": "705b3bc5",
   "metadata": {},
   "outputs": [],
   "source": [
    "df.drop(df[df['fuelType']=='Other'].index ,inplace =True)"
   ]
  },
  {
   "cell_type": "code",
   "execution_count": 65,
   "id": "ce07585e",
   "metadata": {},
   "outputs": [
    {
     "data": {
      "text/plain": [
       "<AxesSubplot:xlabel='company name', ylabel='mpg'>"
      ]
     },
     "execution_count": 65,
     "metadata": {},
     "output_type": "execute_result"
    },
    {
     "data": {
      "image/png": "[encoded data removed]",
      "text/plain": [
       "<Figure size 1008x720 with 1 Axes>"
      ]
     },
     "metadata": {},
     "output_type": "display_data"
    }
   ],
   "source": [
    "sns.barplot(data=df, x='company name', y='mpg')"
   ]
  },
  {
   "cell_type": "code",
   "execution_count": 66,
   "id": "f46c743d",
   "metadata": {},
   "outputs": [
    {
     "data": {
      "text/plain": [
       "<AxesSubplot:xlabel='model', ylabel='mpg'>"
      ]
     },
     "execution_count": 66,
     "metadata": {},
     "output_type": "execute_result"
    },
    {
     "data": {
      "image/png": "[encoded data removed]",
      "text/plain": [
       "<Figure size 1008x720 with 1 Axes>"
      ]
     },
     "metadata": {},
     "output_type": "display_data"
    }
   ],
   "source": [
    "sns.barplot(data=df, x='model', y='mpg')\n"
   ]
  },
  {
   "cell_type": "code",
   "execution_count": 67,
   "id": "5ec998f8",
   "metadata": {},
   "outputs": [
    {
     "data": {
      "text/plain": [
       "<AxesSubplot:xlabel='transmission', ylabel='count'>"
      ]
     },
     "execution_count": 67,
     "metadata": {},
     "output_type": "execute_result"
    },
    {
     "data": {
      "image/png": "[encoded data removed]",
      "text/plain": [
       "<Figure size 1008x720 with 1 Axes>"
      ]
     },
     "metadata": {},
     "output_type": "display_data"
    }
   ],
   "source": [
    "sns.countplot(data=df, x='transmission')"
   ]
  },
  {
   "cell_type": "code",
   "execution_count": 68,
   "id": "c3f5aed3",
   "metadata": {},
   "outputs": [
    {
     "data": {
      "text/plain": [
       "Int64Index([25264, 53528, 66389, 72872, 75471, 86455, 87070, 87173, 118063], dtype='int64')"
      ]
     },
     "execution_count": 68,
     "metadata": {},
     "output_type": "execute_result"
    }
   ],
   "source": [
    "df[df['transmission']== 'Other'].index # only 11 rows are transimition type Other, so its an outlier and i can delete it"
   ]
  },
  {
   "cell_type": "code",
   "execution_count": 69,
   "id": "7a8d43ac",
   "metadata": {},
   "outputs": [
    {
     "data": {
      "text/plain": [
       "(105260, 10)"
      ]
     },
     "execution_count": 69,
     "metadata": {},
     "output_type": "execute_result"
    }
   ],
   "source": [
    "df.shape"
   ]
  },
  {
   "cell_type": "code",
   "execution_count": 70,
   "id": "d494b24f",
   "metadata": {},
   "outputs": [
    {
     "data": {
      "text/plain": [
       "(105251, 10)"
      ]
     },
     "execution_count": 70,
     "metadata": {},
     "output_type": "execute_result"
    }
   ],
   "source": [
    "df.drop(df[df['transmission']== 'Other'].index ,inplace =True)\n",
    "df.shape"
   ]
  },
  {
   "cell_type": "code",
   "execution_count": 71,
   "id": "a4da1e10",
   "metadata": {},
   "outputs": [],
   "source": [
    "\n",
    "df.to_csv('All cars data.csv', index=False )"
   ]
  },
  {
   "cell_type": "code",
   "execution_count": 72,
   "id": "f3018257",
   "metadata": {},
   "outputs": [
    {
     "data": {
      "text/plain": [
       "array([1, 3, 2], dtype=int64)"
      ]
     },
     "execution_count": 72,
     "metadata": {},
     "output_type": "execute_result"
    }
   ],
   "source": [
    "# renaming transmission values\n",
    "\n",
    "transmition_map = {'Manual':1, 'Semi-Auto':2, 'Automatic':3}\n",
    "\n",
    "df['transmission'] = df['transmission'].map(transmition_map)\n",
    "df.transmission.unique()"
   ]
  },
  {
   "cell_type": "code",
   "execution_count": 73,
   "id": "77c9d8b5",
   "metadata": {},
   "outputs": [
    {
     "data": {
      "text/plain": [
       "<AxesSubplot:>"
      ]
     },
     "execution_count": 73,
     "metadata": {},
     "output_type": "execute_result"
    },
    {
     "data": {
      "image/png": "[encoded data removed]",
      "text/plain": [
       "<Figure size 1008x720 with 2 Axes>"
      ]
     },
     "metadata": {},
     "output_type": "display_data"
    }
   ],
   "source": [
    "sns.heatmap(df.corr(), annot=True)\n",
    "\n",
    "#The most effictive features are year then enginesize then transmission  then mileage."
   ]
  },
  {
   "cell_type": "code",
   "execution_count": null,
   "id": "c565af6f",
   "metadata": {},
   "outputs": [],
   "source": []
  }
 ],
 "metadata": {
  "kernelspec": {
   "display_name": "Python 3",
   "language": "python",
   "name": "python3"
  },
  "language_info": {
   "codemirror_mode": {
    "name": "ipython",
    "version": 3
   },
   "file_extension": ".py",
   "mimetype": "text/x-python",
   "name": "python",
   "nbconvert_exporter": "python",
   "pygments_lexer": "ipython3",
   "version": "3.8.8"
  },
  "toc": {
   "base_numbering": 1,
   "nav_menu": {},
   "number_sections": false,
   "sideBar": true,
   "skip_h1_title": false,
   "title_cell": "Table of Contents",
   "title_sidebar": "Contents",
   "toc_cell": true,
   "toc_position": {},
   "toc_section_display": true,
   "toc_window_display": false
  }
 },
 "nbformat": 4,
 "nbformat_minor": 5
}
