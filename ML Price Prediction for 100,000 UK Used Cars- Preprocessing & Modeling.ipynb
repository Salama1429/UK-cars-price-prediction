{
 "cells": [
  {
   "cell_type": "markdown",
   "id": "d066e07f",
   "metadata": {},
   "source": [
    "### Data Preprocessing"
   ]
  },
  {
   "cell_type": "code",
   "execution_count": 1,
   "id": "cfc89f23",
   "metadata": {},
   "outputs": [],
   "source": [
    "import pandas as pd"
   ]
  },
  {
   "cell_type": "code",
   "execution_count": 2,
   "id": "a31bcd79",
   "metadata": {},
   "outputs": [],
   "source": [
    "df = pd.read_csv('All cars data.csv')"
   ]
  },
  {
   "cell_type": "code",
   "execution_count": 3,
   "id": "33c44b79",
   "metadata": {},
   "outputs": [
    {
     "data": {
      "text/plain": [
       "(105251, 10)"
      ]
     },
     "execution_count": 3,
     "metadata": {},
     "output_type": "execute_result"
    }
   ],
   "source": [
    "df.shape"
   ]
  },
  {
   "cell_type": "code",
   "execution_count": 4,
   "id": "f9aa6b7a",
   "metadata": {
    "scrolled": true
   },
   "outputs": [
    {
     "data": {
      "text/html": [
       "<div>\n",
       "<style scoped>\n",
       "    .dataframe tbody tr th:only-of-type {\n",
       "        vertical-align: middle;\n",
       "    }\n",
       "\n",
       "    .dataframe tbody tr th {\n",
       "        vertical-align: top;\n",
       "    }\n",
       "\n",
       "    .dataframe thead th {\n",
       "        text-align: right;\n",
       "    }\n",
       "</style>\n",
       "<table border=\"1\" class=\"dataframe\">\n",
       "  <thead>\n",
       "    <tr style=\"text-align: right;\">\n",
       "      <th></th>\n",
       "      <th>model</th>\n",
       "      <th>year</th>\n",
       "      <th>price</th>\n",
       "      <th>transmission</th>\n",
       "      <th>mileage</th>\n",
       "      <th>fuelType</th>\n",
       "      <th>tax</th>\n",
       "      <th>mpg</th>\n",
       "      <th>engineSize</th>\n",
       "      <th>company name</th>\n",
       "    </tr>\n",
       "  </thead>\n",
       "  <tbody>\n",
       "    <tr>\n",
       "      <th>0</th>\n",
       "      <td>A1</td>\n",
       "      <td>2017</td>\n",
       "      <td>12500.0</td>\n",
       "      <td>Manual</td>\n",
       "      <td>15735.0</td>\n",
       "      <td>Petrol</td>\n",
       "      <td>150.0</td>\n",
       "      <td>55.4</td>\n",
       "      <td>1.4</td>\n",
       "      <td>audi</td>\n",
       "    </tr>\n",
       "    <tr>\n",
       "      <th>1</th>\n",
       "      <td>A6</td>\n",
       "      <td>2016</td>\n",
       "      <td>16500.0</td>\n",
       "      <td>Automatic</td>\n",
       "      <td>36203.0</td>\n",
       "      <td>Diesel</td>\n",
       "      <td>20.0</td>\n",
       "      <td>64.2</td>\n",
       "      <td>2.0</td>\n",
       "      <td>audi</td>\n",
       "    </tr>\n",
       "    <tr>\n",
       "      <th>2</th>\n",
       "      <td>A1</td>\n",
       "      <td>2016</td>\n",
       "      <td>11000.0</td>\n",
       "      <td>Manual</td>\n",
       "      <td>29946.0</td>\n",
       "      <td>Petrol</td>\n",
       "      <td>30.0</td>\n",
       "      <td>55.4</td>\n",
       "      <td>1.4</td>\n",
       "      <td>audi</td>\n",
       "    </tr>\n",
       "    <tr>\n",
       "      <th>3</th>\n",
       "      <td>A4</td>\n",
       "      <td>2017</td>\n",
       "      <td>16800.0</td>\n",
       "      <td>Automatic</td>\n",
       "      <td>25952.0</td>\n",
       "      <td>Diesel</td>\n",
       "      <td>145.0</td>\n",
       "      <td>67.3</td>\n",
       "      <td>2.0</td>\n",
       "      <td>audi</td>\n",
       "    </tr>\n",
       "    <tr>\n",
       "      <th>4</th>\n",
       "      <td>A3</td>\n",
       "      <td>2019</td>\n",
       "      <td>17300.0</td>\n",
       "      <td>Manual</td>\n",
       "      <td>1998.0</td>\n",
       "      <td>Petrol</td>\n",
       "      <td>145.0</td>\n",
       "      <td>49.6</td>\n",
       "      <td>1.0</td>\n",
       "      <td>audi</td>\n",
       "    </tr>\n",
       "  </tbody>\n",
       "</table>\n",
       "</div>"
      ],
      "text/plain": [
       "  model  year    price transmission  mileage fuelType    tax   mpg  \\\n",
       "0    A1  2017  12500.0       Manual  15735.0   Petrol  150.0  55.4   \n",
       "1    A6  2016  16500.0    Automatic  36203.0   Diesel   20.0  64.2   \n",
       "2    A1  2016  11000.0       Manual  29946.0   Petrol   30.0  55.4   \n",
       "3    A4  2017  16800.0    Automatic  25952.0   Diesel  145.0  67.3   \n",
       "4    A3  2019  17300.0       Manual   1998.0   Petrol  145.0  49.6   \n",
       "\n",
       "   engineSize company name  \n",
       "0         1.4         audi  \n",
       "1         2.0         audi  \n",
       "2         1.4         audi  \n",
       "3         2.0         audi  \n",
       "4         1.0         audi  "
      ]
     },
     "execution_count": 4,
     "metadata": {},
     "output_type": "execute_result"
    }
   ],
   "source": [
    "df.head()"
   ]
  },
  {
   "cell_type": "code",
   "execution_count": 5,
   "id": "2907a5a5",
   "metadata": {},
   "outputs": [
    {
     "name": "stdout",
     "output_type": "stream",
     "text": [
      "['audi' 'bmw' 'cclass' 'focus' 'ford' 'hyundi' 'merc' 'skoda' 'toyota'\n",
      " 'vauxhall' 'vw']\n"
     ]
    }
   ],
   "source": [
    "print(df['company name'].unique())"
   ]
  },
  {
   "cell_type": "code",
   "execution_count": 6,
   "id": "0345e58a",
   "metadata": {},
   "outputs": [
    {
     "data": {
      "text/plain": [
       "array(['Manual', 'Automatic', 'Semi-Auto'], dtype=object)"
      ]
     },
     "execution_count": 6,
     "metadata": {},
     "output_type": "execute_result"
    }
   ],
   "source": [
    "df.transmission.unique()"
   ]
  },
  {
   "cell_type": "code",
   "execution_count": 7,
   "id": "1f18e17f",
   "metadata": {},
   "outputs": [
    {
     "data": {
      "text/plain": [
       "array(['Petrol', 'Diesel', 'Hybrid'], dtype=object)"
      ]
     },
     "execution_count": 7,
     "metadata": {},
     "output_type": "execute_result"
    }
   ],
   "source": [
    "df.fuelType.unique()"
   ]
  },
  {
   "cell_type": "code",
   "execution_count": 8,
   "id": "84b6b87f",
   "metadata": {},
   "outputs": [],
   "source": [
    "from sklearn import preprocessing\n",
    "le = preprocessing.LabelEncoder()\n",
    "\n",
    "df.model=le.fit_transform(df.model)\n",
    "mapping_model = dict(zip(le.classes_, range(len(le.classes_))))\n",
    "\n",
    "df['company name']=le.fit_transform(df['company name'])\n",
    "mapping_companyName = dict(zip(le.classes_, range(len(le.classes_))))\n",
    "\n",
    "df.fuelType=le.fit_transform(df.fuelType)\n",
    "mapping_fuelType = dict(zip(le.classes_, range(len(le.classes_))))"
   ]
  },
  {
   "cell_type": "code",
   "execution_count": 24,
   "id": "aa46bca1",
   "metadata": {},
   "outputs": [
    {
     "name": "stdout",
     "output_type": "stream",
     "text": [
      "{'1 Series': 0, '180': 1, '2 Series': 2, '200': 3, '220': 4, '3 Series': 5, '4 Series': 6, '5 Series': 7, '6 Series': 8, '7 Series': 9, 'A Class': 10, 'A1': 11, 'A3': 12, 'A4': 13, 'A5': 14, 'A6': 15, 'A7': 16, 'A8': 17, 'Adam': 18, 'Agila': 19, 'Amarok': 20, 'Antara': 21, 'Arteon': 22, 'Astra': 23, 'Auris': 24, 'Avensis': 25, 'Aygo': 26, 'B Class': 27, 'B-MAX': 28, 'Beetle': 29, 'C Class': 30, 'C-HR': 31, 'C-MAX': 32, 'CC': 33, 'CL Class': 34, 'CLA Class': 35, 'CLS Class': 36, 'Caddy': 37, 'Caddy Life': 38, 'Caddy Maxi': 39, 'Caddy Maxi Life': 40, 'Camry': 41, 'Caravelle': 42, 'Cascada': 43, 'Citigo': 44, 'Combo Life': 45, 'Corolla': 46, 'Corsa': 47, 'Crossland X': 48, 'E Class': 49, 'EcoSport': 50, 'Edge': 51, 'Eos': 52, 'Fabia': 53, 'Fiesta': 54, 'Focus': 55, 'GL Class': 56, 'GLA Class': 57, 'GLB Class': 58, 'GLC Class': 59, 'GLE Class': 60, 'GLS Class': 61, 'GT86': 62, 'GTC': 63, 'Galaxy': 64, 'Golf': 65, 'Golf SV': 66, 'Grand C-MAX': 67, 'Grand Tourneo Connect': 68, 'Grandland X': 69, 'Hilux': 70, 'I10': 71, 'I20': 72, 'I30': 73, 'I40': 74, 'I800': 75, 'IQ': 76, 'IX20': 77, 'IX35': 78, 'Insignia': 79, 'Ioniq': 80, 'Jetta': 81, 'KA': 82, 'Ka+': 83, 'Kadjar': 84, 'Kamiq': 85, 'Karoq': 86, 'Kodiaq': 87, 'Kona': 88, 'Kuga': 89, 'Land Cruiser': 90, 'M Class': 91, 'M2': 92, 'M3': 93, 'M4': 94, 'Meriva': 95, 'Mokka': 96, 'Mokka X': 97, 'Mondeo': 98, 'Mustang': 99, 'Octavia': 100, 'PROACE VERSO': 101, 'Passat': 102, 'Polo': 103, 'Prius': 104, 'Puma': 105, 'Q2': 106, 'Q3': 107, 'Q5': 108, 'Q7': 109, 'RAV4': 110, 'RS3': 111, 'Rapid': 112, 'Roomster': 113, 'S Class': 114, 'S-MAX': 115, 'S3': 116, 'S4': 117, 'S5': 118, 'SL CLASS': 119, 'SLK': 120, 'SQ5': 121, 'Santa Fe': 122, 'Scala': 123, 'Scirocco': 124, 'Sharan': 125, 'Shuttle': 126, 'Superb': 127, 'T-Cross': 128, 'T-Roc': 129, 'TT': 130, 'Tiguan': 131, 'Tiguan Allspace': 132, 'Touareg': 133, 'Touran': 134, 'Tourneo Connect': 135, 'Tourneo Custom': 136, 'Transit Tourneo': 137, 'Tucson': 138, 'Up': 139, 'Urban Cruiser': 140, 'V Class': 141, 'Veloster': 142, 'Verso': 143, 'Verso-S': 144, 'Viva': 145, 'Vivaro': 146, 'X-CLASS': 147, 'X1': 148, 'X2': 149, 'X3': 150, 'X4': 151, 'X5': 152, 'X6': 153, 'Yaris': 154, 'Yeti': 155, 'Yeti Outdoor': 156, 'Z4': 157, 'Zafira': 158, 'Zafira Tourer': 159}\n",
      "\n",
      "\n",
      "{'audi': 0, 'bmw': 1, 'cclass': 2, 'focus': 3, 'ford': 4, 'hyundi': 5, 'merc': 6, 'skoda': 7, 'toyota': 8, 'vauxhall': 9, 'vw': 10}\n",
      "\n",
      "\n",
      "{'Diesel': 0, 'Hybrid': 1, 'Petrol': 2}\n",
      "\n",
      "\n"
     ]
    }
   ],
   "source": [
    "print(mapping_model)\n",
    "print('\\n')\n",
    "print(mapping_companyName)\n",
    "print('\\n')\n",
    "print(mapping_fuelType)\n",
    "print('\\n')"
   ]
  },
  {
   "cell_type": "code",
   "execution_count": 10,
   "id": "79a8c8ca",
   "metadata": {},
   "outputs": [
    {
     "data": {
      "text/plain": [
       "array([1, 3, 2], dtype=int64)"
      ]
     },
     "execution_count": 10,
     "metadata": {},
     "output_type": "execute_result"
    }
   ],
   "source": [
    "# renaming transmission values\n",
    "\n",
    "transmition_map = {'Manual':1, 'Semi-Auto':2, 'Automatic':3}\n",
    "\n",
    "df['transmission'] = df['transmission'].map(transmition_map)\n",
    "df.transmission.unique()"
   ]
  },
  {
   "cell_type": "code",
   "execution_count": 11,
   "id": "2ff70391",
   "metadata": {},
   "outputs": [
    {
     "data": {
      "text/html": [
       "<div>\n",
       "<style scoped>\n",
       "    .dataframe tbody tr th:only-of-type {\n",
       "        vertical-align: middle;\n",
       "    }\n",
       "\n",
       "    .dataframe tbody tr th {\n",
       "        vertical-align: top;\n",
       "    }\n",
       "\n",
       "    .dataframe thead th {\n",
       "        text-align: right;\n",
       "    }\n",
       "</style>\n",
       "<table border=\"1\" class=\"dataframe\">\n",
       "  <thead>\n",
       "    <tr style=\"text-align: right;\">\n",
       "      <th></th>\n",
       "      <th>model</th>\n",
       "      <th>year</th>\n",
       "      <th>price</th>\n",
       "      <th>transmission</th>\n",
       "      <th>mileage</th>\n",
       "      <th>fuelType</th>\n",
       "      <th>tax</th>\n",
       "      <th>mpg</th>\n",
       "      <th>engineSize</th>\n",
       "      <th>company name</th>\n",
       "    </tr>\n",
       "  </thead>\n",
       "  <tbody>\n",
       "    <tr>\n",
       "      <th>0</th>\n",
       "      <td>-1.258274</td>\n",
       "      <td>-0.181791</td>\n",
       "      <td>12500.0</td>\n",
       "      <td>-0.766775</td>\n",
       "      <td>-0.291621</td>\n",
       "      <td>0.836998</td>\n",
       "      <td>0.469565</td>\n",
       "      <td>0.065162</td>\n",
       "      <td>-0.417644</td>\n",
       "      <td>-1.607517</td>\n",
       "    </tr>\n",
       "    <tr>\n",
       "      <th>1</th>\n",
       "      <td>-1.160059</td>\n",
       "      <td>-0.780450</td>\n",
       "      <td>16500.0</td>\n",
       "      <td>1.787830</td>\n",
       "      <td>1.009277</td>\n",
       "      <td>-1.217358</td>\n",
       "      <td>-1.512089</td>\n",
       "      <td>1.030445</td>\n",
       "      <td>0.862212</td>\n",
       "      <td>-1.607517</td>\n",
       "    </tr>\n",
       "    <tr>\n",
       "      <th>2</th>\n",
       "      <td>-1.258274</td>\n",
       "      <td>-0.780450</td>\n",
       "      <td>11000.0</td>\n",
       "      <td>-0.766775</td>\n",
       "      <td>0.611597</td>\n",
       "      <td>0.836998</td>\n",
       "      <td>-1.359654</td>\n",
       "      <td>0.065162</td>\n",
       "      <td>-0.417644</td>\n",
       "      <td>-1.607517</td>\n",
       "    </tr>\n",
       "    <tr>\n",
       "      <th>3</th>\n",
       "      <td>-1.209166</td>\n",
       "      <td>-0.181791</td>\n",
       "      <td>16800.0</td>\n",
       "      <td>1.787830</td>\n",
       "      <td>0.357747</td>\n",
       "      <td>-1.217358</td>\n",
       "      <td>0.393347</td>\n",
       "      <td>1.370488</td>\n",
       "      <td>0.862212</td>\n",
       "      <td>-1.607517</td>\n",
       "    </tr>\n",
       "    <tr>\n",
       "      <th>4</th>\n",
       "      <td>-1.233720</td>\n",
       "      <td>1.015526</td>\n",
       "      <td>17300.0</td>\n",
       "      <td>-0.766775</td>\n",
       "      <td>-1.164713</td>\n",
       "      <td>0.836998</td>\n",
       "      <td>0.393347</td>\n",
       "      <td>-0.571048</td>\n",
       "      <td>-1.270881</td>\n",
       "      <td>-1.607517</td>\n",
       "    </tr>\n",
       "  </tbody>\n",
       "</table>\n",
       "</div>"
      ],
      "text/plain": [
       "      model      year    price  transmission   mileage  fuelType       tax  \\\n",
       "0 -1.258274 -0.181791  12500.0     -0.766775 -0.291621  0.836998  0.469565   \n",
       "1 -1.160059 -0.780450  16500.0      1.787830  1.009277 -1.217358 -1.512089   \n",
       "2 -1.258274 -0.780450  11000.0     -0.766775  0.611597  0.836998 -1.359654   \n",
       "3 -1.209166 -0.181791  16800.0      1.787830  0.357747 -1.217358  0.393347   \n",
       "4 -1.233720  1.015526  17300.0     -0.766775 -1.164713  0.836998  0.393347   \n",
       "\n",
       "        mpg  engineSize  company name  \n",
       "0  0.065162   -0.417644     -1.607517  \n",
       "1  1.030445    0.862212     -1.607517  \n",
       "2  0.065162   -0.417644     -1.607517  \n",
       "3  1.370488    0.862212     -1.607517  \n",
       "4 -0.571048   -1.270881     -1.607517  "
      ]
     },
     "execution_count": 11,
     "metadata": {},
     "output_type": "execute_result"
    }
   ],
   "source": [
    "from sklearn.preprocessing import StandardScaler\n",
    "\n",
    "scaler = StandardScaler()\n",
    "cols=['year','mileage','tax','mpg', 'engineSize','model','transmission','fuelType','company name']\n",
    "df[cols]=scaler.fit_transform(df[cols])\n",
    "df.head()"
   ]
  },
  {
   "cell_type": "code",
   "execution_count": 12,
   "id": "ed6f55c3",
   "metadata": {},
   "outputs": [
    {
     "data": {
      "text/plain": [
       "(89463, 9)"
      ]
     },
     "execution_count": 12,
     "metadata": {},
     "output_type": "execute_result"
    }
   ],
   "source": [
    "from sklearn.model_selection import train_test_split\n",
    "\n",
    "x = df.drop('price', axis=1)\n",
    "y = df[['price']]\n",
    "\n",
    "x_train, x_test, y_train, y_test = train_test_split(x, y, test_size = 0.15)\n",
    "x_train.shape"
   ]
  },
  {
   "cell_type": "markdown",
   "id": "f0756be3",
   "metadata": {},
   "source": [
    "## Modeling "
   ]
  },
  {
   "cell_type": "code",
   "execution_count": 13,
   "id": "73ca7998",
   "metadata": {},
   "outputs": [],
   "source": [
    "from sklearn.linear_model import LinearRegression\n",
    "from sklearn.tree import DecisionTreeRegressor\n",
    "from sklearn.ensemble import RandomForestRegressor\n",
    "from xgboost import XGBRegressor\n",
    "from sklearn.neighbors import KNeighborsRegressor\n",
    "\n",
    "from sklearn.metrics import r2_score"
   ]
  },
  {
   "cell_type": "code",
   "execution_count": 14,
   "id": "6e8b19d0",
   "metadata": {},
   "outputs": [],
   "source": [
    "models = {'LR' : LinearRegression(), \n",
    "          'DT' : DecisionTreeRegressor(), \n",
    "          'RF' : RandomForestRegressor(), \n",
    "          'XGB' : XGBRegressor(), \n",
    "          'KNN' : KNeighborsRegressor()}"
   ]
  },
  {
   "cell_type": "code",
   "execution_count": 15,
   "id": "e27bdee6",
   "metadata": {
    "scrolled": true
   },
   "outputs": [
    {
     "name": "stdout",
     "output_type": "stream",
     "text": [
      "LR\n",
      "----------\n",
      "Train Score 0.7630044064232121\n",
      "Test Score 0.7636123894212299\n",
      "==================================================\n",
      "DT\n",
      "----------\n",
      "Train Score 0.9992258787849159\n",
      "Test Score 0.9348811635974065\n",
      "==================================================\n",
      "RF\n",
      "----------\n"
     ]
    },
    {
     "name": "stderr",
     "output_type": "stream",
     "text": [
      "<ipython-input-15-923a3064a79f>:4: DataConversionWarning: A column-vector y was passed when a 1d array was expected. Please change the shape of y to (n_samples,), for example using ravel().\n",
      "  model.fit(x_train, y_train)\n"
     ]
    },
    {
     "name": "stdout",
     "output_type": "stream",
     "text": [
      "Train Score 0.9936067254949833\n",
      "Test Score 0.959258056751898\n",
      "==================================================\n",
      "XGB\n",
      "----------\n",
      "Train Score 0.9579389091072523\n",
      "Test Score 0.9523785771342558\n",
      "==================================================\n",
      "KNN\n",
      "----------\n",
      "Train Score 0.960959425539658\n",
      "Test Score 0.9413450074460541\n",
      "==================================================\n"
     ]
    }
   ],
   "source": [
    "for name, model in models.items() :\n",
    "    print(name)\n",
    "    print('-'*10)\n",
    "    model.fit(x_train, y_train)\n",
    "    y_pred = model.predict(x_test)\n",
    "    \n",
    "    ## score \n",
    "    print('Train Score', r2_score(y_train, model.predict(x_train)))\n",
    "    print('Test Score', r2_score(y_test, y_pred))\n",
    "    print('='*50)"
   ]
  },
  {
   "cell_type": "markdown",
   "id": "294c0abe",
   "metadata": {},
   "source": [
    "## parameter tuning\n",
    "\n",
    "### I made it before on cloud but it took too long so i will run this code again"
   ]
  },
  {
   "cell_type": "code",
   "execution_count": 16,
   "id": "b3defe79",
   "metadata": {},
   "outputs": [],
   "source": [
    "# RandomizedSearchCV(cv=5, estimator=RandomForestRegressor(),\n",
    "#                    param_distributions={'max_depth': [100, 50, 20, 10],\n",
    "#                                         'min_samples_leaf': [2, 5, 7, 11],\n",
    "#                                         'n_estimators': [600, 400, 250]},\n",
    "\n",
    "# {'n_estimators': 250, 'min_samples_leaf': 2, 'max_depth': 100}\n",
    "\n",
    "# 0.9857227615285351\n",
    "# 0.9559854036971698\n",
    "# #####################################################################\n",
    "# RandomizedSearchCV(cv=5, estimator=RandomForestRegressor(),\n",
    "#  \t\t\tparam_distributions={'max_depth': [5, 6, 8, 10],\n",
    "#  \t\t\t'n_estimators': [100, 200, 250]}, scoring='r2')\n",
    "\n",
    "# {'n_estimators': 250, 'max_depth': 10}\n",
    "# #######################################################################3\n",
    "# RandomizedSearchCV(cv=5, estimator=RandomForestRegressor(),\n",
    "#                    param_distributions={'max_depth': [100, 200, 250],\n",
    "#                                         'min_samples_leaf': [2, 4],\n",
    "#                                         'n_estimators': [260, 240, 250]},\n",
    "\n",
    "# {'n_estimators': 260, 'min_samples_leaf': 2, 'max_depth': 200}\n",
    "\n",
    "# 0.9857151681468798\n",
    "# 0.9558541509235499\n",
    "# ###########################################################################3\n",
    "# model = RandomForestRegressor(n_estimators=260, max_depth= 170, min_samples_leaf=2)\n",
    "# model.fit(x_train, y_train)\n",
    "# r2_score(y_train, model.predict(x_train))\n",
    "\n",
    "# 0.9857383090011874\n",
    "# 0.9559186526267716"
   ]
  },
  {
   "cell_type": "markdown",
   "id": "eac16952",
   "metadata": {},
   "source": [
    "### Random forest"
   ]
  },
  {
   "cell_type": "code",
   "execution_count": 17,
   "id": "ac651c38",
   "metadata": {},
   "outputs": [
    {
     "name": "stderr",
     "output_type": "stream",
     "text": [
      "<ipython-input-17-83392bf7e070>:2: DataConversionWarning: A column-vector y was passed when a 1d array was expected. Please change the shape of y to (n_samples,), for example using ravel().\n",
      "  model.fit(x_train, y_train)\n"
     ]
    },
    {
     "data": {
      "text/plain": [
       "0.9859287697778796"
      ]
     },
     "execution_count": 17,
     "metadata": {},
     "output_type": "execute_result"
    }
   ],
   "source": [
    "model = RandomForestRegressor(n_estimators=250, max_depth= 100, min_samples_leaf=2)\n",
    "model.fit(x_train, y_train)\n",
    "y_pred = model.predict(x_test)\n",
    "r2_score(y_train, model.predict(x_train))"
   ]
  },
  {
   "cell_type": "code",
   "execution_count": 18,
   "id": "7fa38307",
   "metadata": {},
   "outputs": [
    {
     "data": {
      "text/plain": [
       "0.9588149799543981"
      ]
     },
     "execution_count": 18,
     "metadata": {},
     "output_type": "execute_result"
    }
   ],
   "source": [
    "r2_score(y_test, y_pred)"
   ]
  },
  {
   "cell_type": "markdown",
   "id": "93b03ba1",
   "metadata": {},
   "source": [
    "## Exporting model & scaler"
   ]
  },
  {
   "cell_type": "code",
   "execution_count": 19,
   "id": "5f7a6575",
   "metadata": {},
   "outputs": [],
   "source": [
    "import joblib "
   ]
  },
  {
   "cell_type": "code",
   "execution_count": 20,
   "id": "629f47be",
   "metadata": {},
   "outputs": [
    {
     "data": {
      "text/plain": [
       "['model.h5']"
      ]
     },
     "execution_count": 20,
     "metadata": {},
     "output_type": "execute_result"
    }
   ],
   "source": [
    "joblib.dump(model, 'model.h5') "
   ]
  },
  {
   "cell_type": "code",
   "execution_count": 21,
   "id": "03ce6207",
   "metadata": {},
   "outputs": [
    {
     "data": {
      "text/plain": [
       "['scaler.h5']"
      ]
     },
     "execution_count": 21,
     "metadata": {},
     "output_type": "execute_result"
    }
   ],
   "source": [
    "joblib.dump(scaler, 'scaler.h5') "
   ]
  },
  {
   "cell_type": "code",
   "execution_count": 22,
   "id": "79f83469",
   "metadata": {},
   "outputs": [
    {
     "data": {
      "text/plain": [
       "Index(['model', 'year', 'transmission', 'mileage', 'fuelType', 'tax', 'mpg',\n",
       "       'engineSize', 'company name'],\n",
       "      dtype='object')"
      ]
     },
     "execution_count": 22,
     "metadata": {},
     "output_type": "execute_result"
    }
   ],
   "source": [
    "x.columns"
   ]
  },
  {
   "cell_type": "code",
   "execution_count": null,
   "id": "cbc72410",
   "metadata": {},
   "outputs": [],
   "source": []
  }
 ],
 "metadata": {
  "kernelspec": {
   "display_name": "Python 3",
   "language": "python",
   "name": "python3"
  },
  "language_info": {
   "codemirror_mode": {
    "name": "ipython",
    "version": 3
   },
   "file_extension": ".py",
   "mimetype": "text/x-python",
   "name": "python",
   "nbconvert_exporter": "python",
   "pygments_lexer": "ipython3",
   "version": "3.8.8"
  },
  "toc": {
   "base_numbering": 1,
   "nav_menu": {},
   "number_sections": false,
   "sideBar": true,
   "skip_h1_title": false,
   "title_cell": "Table of Contents",
   "title_sidebar": "Contents",
   "toc_cell": false,
   "toc_position": {},
   "toc_section_display": true,
   "toc_window_display": false
  }
 },
 "nbformat": 4,
 "nbformat_minor": 5
}
