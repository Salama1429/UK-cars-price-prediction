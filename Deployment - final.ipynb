{
 "cells": [
  {
   "cell_type": "code",
   "execution_count": 1,
   "id": "c6d49960",
   "metadata": {},
   "outputs": [],
   "source": [
    "import numpy as np\n",
    "import pandas\n",
    "import joblib"
   ]
  },
  {
   "cell_type": "code",
   "execution_count": 2,
   "id": "05848762",
   "metadata": {},
   "outputs": [],
   "source": [
    "mapping_model = {'1 Series': 0, '180': 1, '2 Series': 2, '200': 3, '220': 4, '3 Series': 5, '4 Series': 6, '5 Series': 7, \n",
    "                 '6 Series': 8, '7 Series': 9, 'A Class': 10, 'A1': 11, 'A3': 12, 'A4': 13, 'A5': 14, 'A6': 15, 'A7': 16, \n",
    "                 'A8': 17, 'Accent': 18, 'Adam': 19, 'Agila': 20, 'Amarok': 21, 'Amica': 22, 'Ampera': 23, 'Antara': 24, \n",
    "                 'Arteon': 25, 'Astra': 26, 'Auris': 27, 'Avensis': 28, 'Aygo': 29, 'B Class': 30, 'B-MAX': 31, 'Beetle': 32, \n",
    "                 'C Class': 33, 'C-HR': 34, 'C-MAX': 35, 'CC': 36, 'CL Class': 37, 'CLA Class': 38, 'CLC Class': 39, 'CLK': 40,\n",
    "                 'CLS Class': 41, 'Caddy': 42, 'Caddy Life': 43, 'Caddy Maxi': 44, 'Caddy Maxi Life': 45, 'Camry': 46,\n",
    "                 'Caravelle': 47, 'Cascada': 48, 'Citigo': 49, 'Combo Life': 50, 'Corolla': 51, 'Corsa': 52, 'Crossland X': 53,\n",
    "                 'E Class': 54, 'EcoSport': 55, 'Edge': 56, 'Eos': 57, 'Escort': 58, 'Fabia': 59, 'Fiesta': 60, 'Focus': 61,\n",
    "                 'Fusion': 62, 'GL Class': 63, 'GLA Class': 64, 'GLB Class': 65, 'GLC Class': 66, 'GLE Class': 67,\n",
    "                 'GLS Class': 68, 'GT86': 69, 'GTC': 70, 'Galaxy': 71, 'Getz': 72, 'Golf': 73, 'Golf SV': 74,\n",
    "                 'Grand C-MAX': 75, 'Grand Tourneo Connect': 76, 'Grandland X': 77, 'Hilux': 78, 'I10': 79, 'I20': 80, \n",
    "                 'I30': 81, 'I40': 82, 'I800': 83, 'IQ': 84, 'IX20': 85, 'IX35': 86, 'Insignia': 87, 'Ioniq': 88, \n",
    "                 'Jetta': 89, 'KA': 90, 'Ka+': 91, 'Kadjar': 92, 'Kamiq': 93, 'Karoq': 94, 'Kodiaq': 95, 'Kona': 96, \n",
    "                 'Kuga': 97, 'Land Cruiser': 98, 'M Class': 99, 'M2': 100, 'M3': 101, 'M4': 102, 'M5': 103, 'M6': 104, \n",
    "                 'Meriva': 105, 'Mokka': 106, 'Mokka X': 107, 'Mondeo': 108, 'Mustang': 109, 'Octavia': 110,\n",
    "                 'PROACE VERSO': 111, 'Passat': 112, 'Polo': 113, 'Prius': 114, 'Puma': 115, 'Q2': 116, 'Q3': 117, 'Q5': 118,\n",
    "                 'Q7': 119, 'R Class': 120, 'R8': 121, 'RAV4': 122, 'RS3': 123, 'RS4': 124, 'RS5': 125, 'RS7': 126, \n",
    "                 'Rapid': 127, 'Roomster': 128, 'S Class': 129, 'S-MAX': 130, 'S3': 131, 'S4': 132, 'S5': 133, 'S8': 134,\n",
    "                 'SL CLASS': 135, 'SLK': 136, 'SQ5': 137, 'Santa Fe': 138, 'Scala': 139, 'Scirocco': 140, 'Sharan': 141,\n",
    "                 'Shuttle': 142, 'Streetka': 143, 'Superb': 144, 'T-Cross': 145, 'T-Roc': 146, 'TT': 147, 'Tigra': 148,\n",
    "                 'Tiguan': 149, 'Tiguan Allspace': 150, 'Touareg': 151, 'Touran': 152, 'Tourneo Connect': 153,\n",
    "                 'Tourneo Custom': 154, 'Transit Tourneo': 155, 'Tucson': 156, 'Up': 157, 'Urban Cruiser': 158, \n",
    "                 'V Class': 159, 'Veloster': 160, 'Verso': 161, 'Verso-S': 162, 'Viva': 163, 'Vivaro': 164, 'X-CLASS': 165, \n",
    "                 'X1': 166, 'X2': 167, 'X3': 168, 'X4': 169, 'X5': 170, 'X6': 171, 'Yaris': 172, 'Yeti': 173, \n",
    "                 'Yeti Outdoor': 174, 'Z3': 175, 'Z4': 176, 'Zafira': 177, 'Zafira Tourer': 178, 'i3': 179}"
   ]
  },
  {
   "cell_type": "code",
   "execution_count": 3,
   "id": "31bd67df",
   "metadata": {},
   "outputs": [],
   "source": [
    "mapping_companyName = {'audi': 0, 'bmw': 1, 'cclass': 2, 'focus': 3, 'ford': 4, 'hyundi': 5, 'merc': 6, 'skoda': 7, \n",
    "                       'toyota': 8, 'vauxhall': 9, 'vw': 10}"
   ]
  },
  {
   "cell_type": "code",
   "execution_count": 4,
   "id": "373d9276",
   "metadata": {
    "scrolled": false
   },
   "outputs": [],
   "source": [
    "# for i in mapping_transmission:\n",
    "#     print(f\"<option value=${i}$>{i}</option>\")"
   ]
  },
  {
   "cell_type": "code",
   "execution_count": null,
   "id": "e96cff57",
   "metadata": {},
   "outputs": [],
   "source": []
  },
  {
   "cell_type": "code",
   "execution_count": 5,
   "id": "89418a2c",
   "metadata": {},
   "outputs": [],
   "source": [
    "mapping_fuelType = {'Diesel': 0, 'Electric': 1, 'Hybrid': 2, 'Other': 3, 'Petrol': 4}"
   ]
  },
  {
   "cell_type": "code",
   "execution_count": 6,
   "id": "4e6208e0",
   "metadata": {},
   "outputs": [],
   "source": [
    "mapping_transmission = {'Other':0, 'Manual':1, 'Semi-Auto':2, 'Automatic':3}"
   ]
  },
  {
   "cell_type": "code",
   "execution_count": 7,
   "id": "2ff37c48",
   "metadata": {},
   "outputs": [],
   "source": [
    "def preprocess_model(model):\n",
    "    for i in mapping_model:\n",
    "        if model == i:\n",
    "            return mapping_model[i]\n",
    "        \n",
    "        \n",
    "def preprocess_companyName(companyName):\n",
    "    for i in mapping_companyName:\n",
    "        if companyName == i:\n",
    "            return mapping_companyName[i]\n",
    "        \n",
    "        \n",
    "def preprocess_fuelType(fuelType):\n",
    "    for i in mapping_fuelType:\n",
    "        if fuelType == i:\n",
    "            return mapping_fuelType[i]\n",
    "        \n",
    "        \n",
    "def preprocess_transmission(transmission):\n",
    "    for i in mapping_transmission:\n",
    "        if transmission == i:\n",
    "            return mapping_transmission[i]"
   ]
  },
  {
   "cell_type": "code",
   "execution_count": 20,
   "id": "5d9cc28d",
   "metadata": {},
   "outputs": [],
   "source": [
    "# data is dictionary contains all input from the user\n",
    "def preprocess(data) :\n",
    "    \n",
    "    model = preprocess_model(data['model'])\n",
    "    \n",
    "    year = data['year']\n",
    "    \n",
    "    \n",
    "    transmission = preprocess_transmission(data['transmission'])\n",
    "    \n",
    "    mileage = data['mileage']\n",
    "    \n",
    "    fuelType = preprocess_fuelType(data['fuelType'])\n",
    "    \n",
    "    tax = data['tax']\n",
    "    \n",
    "    mpg = data['mpg']\n",
    "    \n",
    "    engineSize = data['engineSize']\n",
    "    \n",
    "    companyName = preprocess_companyName(data['company name'])\n",
    "    \n",
    "\n",
    "    \n",
    "    final_data = [int(model), year, transmission, mileage, fuelType, tax, mpg, engineSize, companyName]\n",
    "    return np.array(final_data)"
   ]
  },
  {
   "cell_type": "code",
   "execution_count": 9,
   "id": "3246db07",
   "metadata": {},
   "outputs": [],
   "source": [
    "x = ['model', 'year', 'transmission', 'mileage', 'fuelType', 'tax',\n",
    "       'mpg', 'engineSize', 'company name']"
   ]
  },
  {
   "cell_type": "code",
   "execution_count": 10,
   "id": "9b41be90",
   "metadata": {},
   "outputs": [],
   "source": [
    "model = joblib.load('model.h5')\n",
    "scaler = joblib.load('scaler.h5')"
   ]
  },
  {
   "cell_type": "code",
   "execution_count": 21,
   "id": "c6d02540",
   "metadata": {},
   "outputs": [
    {
     "name": "stdout",
     "output_type": "stream",
     "text": [
      "model\n",
      "enter the modelA1\n",
      "year\n",
      "enter the year2020\n",
      "transmission\n",
      "enter the transmissionManual\n",
      "mileage\n",
      "enter the mileage55555\n",
      "fuelType\n",
      "enter the fuelTypeDiesel\n",
      "tax\n",
      "enter the tax300\n",
      "mpg\n",
      "enter the mpg300\n",
      "engineSize\n",
      "enter the engineSize2\n",
      "company name\n",
      "enter the company nameaudi\n"
     ]
    }
   ],
   "source": [
    "inputs = ['model', 'year', 'transmission', 'mileage', 'fuelType', 'tax',\n",
    "       'mpg', 'engineSize', 'company name']\n",
    "\n",
    "data = {key : None for key in inputs}\n",
    "\n",
    "for key in data.keys() :\n",
    "    print(key)\n",
    "    value = input(f'enter the {key}')\n",
    "    data[key] = value"
   ]
  },
  {
   "cell_type": "code",
   "execution_count": 22,
   "id": "5fa2eb38",
   "metadata": {},
   "outputs": [
    {
     "data": {
      "text/plain": [
       "numpy.str_"
      ]
     },
     "execution_count": 22,
     "metadata": {},
     "output_type": "execute_result"
    }
   ],
   "source": [
    "final_data = preprocess(data)\n",
    "type(final_data[0])"
   ]
  },
  {
   "cell_type": "code",
   "execution_count": 23,
   "id": "91a9d4ac",
   "metadata": {},
   "outputs": [
    {
     "data": {
      "text/plain": [
       "array(['11', '2020', '1', '55555', '0', '300', '300', '2', '0'],\n",
       "      dtype='<U11')"
      ]
     },
     "execution_count": 23,
     "metadata": {},
     "output_type": "execute_result"
    }
   ],
   "source": [
    "final_data"
   ]
  },
  {
   "cell_type": "code",
   "execution_count": 24,
   "id": "e63b9d8a",
   "metadata": {},
   "outputs": [
    {
     "data": {
      "text/plain": [
       "10750"
      ]
     },
     "execution_count": 24,
     "metadata": {},
     "output_type": "execute_result"
    }
   ],
   "source": [
    "result = model.predict(scaler.transform([final_data])) \n",
    "result = int(result[0])\n",
    "result"
   ]
  },
  {
   "cell_type": "code",
   "execution_count": 14,
   "id": "a9c76f8c",
   "metadata": {},
   "outputs": [],
   "source": [
    "#joblib.load"
   ]
  }
 ],
 "metadata": {
  "kernelspec": {
   "display_name": "Python 3",
   "language": "python",
   "name": "python3"
  },
  "language_info": {
   "codemirror_mode": {
    "name": "ipython",
    "version": 3
   },
   "file_extension": ".py",
   "mimetype": "text/x-python",
   "name": "python",
   "nbconvert_exporter": "python",
   "pygments_lexer": "ipython3",
   "version": "3.8.8"
  },
  "toc": {
   "base_numbering": 1,
   "nav_menu": {},
   "number_sections": true,
   "sideBar": true,
   "skip_h1_title": false,
   "title_cell": "Table of Contents",
   "title_sidebar": "Contents",
   "toc_cell": false,
   "toc_position": {},
   "toc_section_display": true,
   "toc_window_display": false
  }
 },
 "nbformat": 4,
 "nbformat_minor": 5
}
